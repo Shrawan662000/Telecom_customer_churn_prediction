{
 "cells": [
  {
   "cell_type": "markdown",
   "id": "7d425d1a",
   "metadata": {
    "papermill": {
     "duration": 0.015506,
     "end_time": "2025-08-09T17:21:49.764315",
     "exception": false,
     "start_time": "2025-08-09T17:21:49.748809",
     "status": "completed"
    },
    "tags": []
   },
   "source": [
    "# Predicting Customer Churn using neural net with FastAI"
   ]
  },
  {
   "cell_type": "markdown",
   "id": "110d3666",
   "metadata": {
    "papermill": {
     "duration": 0.008867,
     "end_time": "2025-08-09T17:21:49.782690",
     "exception": false,
     "start_time": "2025-08-09T17:21:49.773823",
     "status": "completed"
    },
    "tags": []
   },
   "source": [
    "## Inspiration"
   ]
  },
  {
   "cell_type": "markdown",
   "id": "d469afb8",
   "metadata": {
    "papermill": {
     "duration": 0.008526,
     "end_time": "2025-08-09T17:21:49.801156",
     "exception": false,
     "start_time": "2025-08-09T17:21:49.792630",
     "status": "completed"
    },
    "tags": []
   },
   "source": [
    "This notebook is inspired from [Why you should use a framework](https://www.kaggle.com/code/jhoward/why-you-should-use-a-framework) notebook by Jeremy Howard. It focuses on implementing neural net using frameworks like fastai and PyTorch to predict survival on the Titanic Dataset.\n",
    "\n",
    "The Titanic dataset on kaggle is a beginner-friendly dataset used to predict passenger survival based on input features like age, fare, cabin and pclass. It is a binary classification problem, where the model outputs 0 (did not survive) or 1 (survived)\n",
    "\n",
    "\n",
    "\n"
   ]
  },
  {
   "cell_type": "markdown",
   "id": "6b8dbd58",
   "metadata": {
    "papermill": {
     "duration": 0.008845,
     "end_time": "2025-08-09T17:21:49.818872",
     "exception": false,
     "start_time": "2025-08-09T17:21:49.810027",
     "status": "completed"
    },
    "tags": []
   },
   "source": [
    "## Introduction"
   ]
  },
  {
   "cell_type": "markdown",
   "id": "b6ecb1b8",
   "metadata": {
    "papermill": {
     "duration": 0.009867,
     "end_time": "2025-08-09T17:21:49.837629",
     "exception": false,
     "start_time": "2025-08-09T17:21:49.827762",
     "status": "completed"
    },
    "tags": []
   },
   "source": [
    "I have applied some concepts which I learned from the above notebook to the [Telco Customer Churn](https://www.kaggle.com/datasets/blastchar/telco-customer-churn) dataset. The dataset consists of 21 columns and 7043 rows where each row represents a customer. Few of the features (columns) are listed below-\n",
    "\n",
    "* `gender`: Male or Female\n",
    "* `seniorCitizen`: whether the customer is senior citizen (1) or not (0)\n",
    "* `Partner`: whether the customer has a partner (Yes) or not (No)\n",
    "* `Dependents`: whether the customer has dependents (Yes) or not (No)\n",
    "* `PhoneService`: whether the customer has a phone service (Yes) or not (No)\n",
    "\n",
    "    and 16 more\n",
    "* `Churn`: whether the customer has churned (Yes) or not (No)\n",
    "\n",
    "Thus, there are 20 independent feature (five of which are listed above), and 1 dependent feature- `Churn` which indicates if the customer churned or not."
   ]
  },
  {
   "cell_type": "markdown",
   "id": "147fe17d",
   "metadata": {
    "papermill": {
     "duration": 0.008344,
     "end_time": "2025-08-09T17:21:49.854809",
     "exception": false,
     "start_time": "2025-08-09T17:21:49.846465",
     "status": "completed"
    },
    "tags": []
   },
   "source": [
    "## Importing basic libraries"
   ]
  },
  {
   "cell_type": "markdown",
   "id": "9017ce40",
   "metadata": {
    "papermill": {
     "duration": 0.008309,
     "end_time": "2025-08-09T17:21:49.871509",
     "exception": false,
     "start_time": "2025-08-09T17:21:49.863200",
     "status": "completed"
    },
    "tags": []
   },
   "source": [
    "We'll start with importing basic libraries and saving path to the csv file.\n",
    "\n",
    "* `Path` - Makes it easy to work with file and folder paths using simple, readable syntax\n",
    "* `os` - Lets your code interact with the operating system- like creating folders or listing files\n",
    "* `fastai.tabular.all` - Loads all FastAI tools for working with structured (tabular) data, including models and data loaders"
   ]
  },
  {
   "cell_type": "markdown",
   "id": "98354f89",
   "metadata": {
    "papermill": {
     "duration": 0.008279,
     "end_time": "2025-08-09T17:21:49.888231",
     "exception": false,
     "start_time": "2025-08-09T17:21:49.879952",
     "status": "completed"
    },
    "tags": []
   },
   "source": [
    "We'll set `path` to point to the `telco-customer-churn` folder, which contains the dataset (CSV file) for analysis."
   ]
  },
  {
   "cell_type": "code",
   "execution_count": 1,
   "id": "7470552b",
   "metadata": {
    "_cell_guid": "b1076dfc-b9ad-4769-8c92-a6c4dae69d19",
    "_uuid": "8f2839f25d086af736a60e9eeb907d3b93b6e0e5",
    "execution": {
     "iopub.execute_input": "2025-08-09T17:21:49.906395Z",
     "iopub.status.busy": "2025-08-09T17:21:49.906023Z",
     "iopub.status.idle": "2025-08-09T17:23:22.037273Z",
     "shell.execute_reply": "2025-08-09T17:23:22.036234Z"
    },
    "papermill": {
     "duration": 92.142271,
     "end_time": "2025-08-09T17:23:22.038892",
     "exception": false,
     "start_time": "2025-08-09T17:21:49.896621",
     "status": "completed"
    },
    "tags": []
   },
   "outputs": [
    {
     "name": "stdout",
     "output_type": "stream",
     "text": [
      "\u001b[2K   \u001b[90m━━━━━━━━━━━━━━━━━━━━━━━━━━━━━━━━━━━━━━━━\u001b[0m \u001b[32m235.3/235.3 kB\u001b[0m \u001b[31m6.0 MB/s\u001b[0m eta \u001b[36m0:00:00\u001b[0m\r\n",
      "\u001b[2K   \u001b[90m━━━━━━━━━━━━━━━━━━━━━━━━━━━━━━━━━━━━━━━━\u001b[0m \u001b[32m79.3/79.3 kB\u001b[0m \u001b[31m6.2 MB/s\u001b[0m eta \u001b[36m0:00:00\u001b[0m\r\n",
      "\u001b[2K   \u001b[90m━━━━━━━━━━━━━━━━━━━━━━━━━━━━━━━━━━━━━━━━\u001b[0m \u001b[32m363.4/363.4 MB\u001b[0m \u001b[31m4.7 MB/s\u001b[0m eta \u001b[36m0:00:00\u001b[0m\r\n",
      "\u001b[2K   \u001b[90m━━━━━━━━━━━━━━━━━━━━━━━━━━━━━━━━━━━━━━━━\u001b[0m \u001b[32m664.8/664.8 MB\u001b[0m \u001b[31m2.2 MB/s\u001b[0m eta \u001b[36m0:00:00\u001b[0m\r\n",
      "\u001b[2K   \u001b[90m━━━━━━━━━━━━━━━━━━━━━━━━━━━━━━━━━━━━━━━━\u001b[0m \u001b[32m211.5/211.5 MB\u001b[0m \u001b[31m3.9 MB/s\u001b[0m eta \u001b[36m0:00:00\u001b[0m\r\n",
      "\u001b[2K   \u001b[90m━━━━━━━━━━━━━━━━━━━━━━━━━━━━━━━━━━━━━━━━\u001b[0m \u001b[32m56.3/56.3 MB\u001b[0m \u001b[31m3.3 MB/s\u001b[0m eta \u001b[36m0:00:00\u001b[0m\r\n",
      "\u001b[2K   \u001b[90m━━━━━━━━━━━━━━━━━━━━━━━━━━━━━━━━━━━━━━━━\u001b[0m \u001b[32m127.9/127.9 MB\u001b[0m \u001b[31m13.2 MB/s\u001b[0m eta \u001b[36m0:00:00\u001b[0m\r\n",
      "\u001b[2K   \u001b[90m━━━━━━━━━━━━━━━━━━━━━━━━━━━━━━━━━━━━━━━━\u001b[0m \u001b[32m207.5/207.5 MB\u001b[0m \u001b[31m8.2 MB/s\u001b[0m eta \u001b[36m0:00:00\u001b[0m\r\n",
      "\u001b[2K   \u001b[90m━━━━━━━━━━━━━━━━━━━━━━━━━━━━━━━━━━━━━━━━\u001b[0m \u001b[32m21.1/21.1 MB\u001b[0m \u001b[31m80.4 MB/s\u001b[0m eta \u001b[36m0:00:00\u001b[0m\r\n",
      "\u001b[?25h"
     ]
    }
   ],
   "source": [
    "from pathlib import Path\n",
    "import os\n",
    "\n",
    "path = Path('../input/telco-customer-churn')\n",
    "!pip install -Uqq fastai"
   ]
  },
  {
   "cell_type": "markdown",
   "id": "5503ba75",
   "metadata": {
    "papermill": {
     "duration": 0.026499,
     "end_time": "2025-08-09T17:23:22.094289",
     "exception": false,
     "start_time": "2025-08-09T17:23:22.067790",
     "status": "completed"
    },
    "tags": []
   },
   "source": [
    "Setting the `display format` for floating-point numbers to 2 decimal places in pandas, and random seed to ensure consistent results"
   ]
  },
  {
   "cell_type": "code",
   "execution_count": 2,
   "id": "c376e99d",
   "metadata": {
    "execution": {
     "iopub.execute_input": "2025-08-09T17:23:22.191804Z",
     "iopub.status.busy": "2025-08-09T17:23:22.191499Z",
     "iopub.status.idle": "2025-08-09T17:23:33.342694Z",
     "shell.execute_reply": "2025-08-09T17:23:33.342020Z"
    },
    "papermill": {
     "duration": 11.179873,
     "end_time": "2025-08-09T17:23:33.344111",
     "exception": false,
     "start_time": "2025-08-09T17:23:22.164238",
     "status": "completed"
    },
    "tags": []
   },
   "outputs": [],
   "source": [
    "from fastai.tabular.all import *\n",
    "\n",
    "pd.options.display.float_format = '{:.2f}'.format\n",
    "set_seed(42)"
   ]
  },
  {
   "cell_type": "markdown",
   "id": "726ca690",
   "metadata": {
    "papermill": {
     "duration": 0.026641,
     "end_time": "2025-08-09T17:23:33.399108",
     "exception": false,
     "start_time": "2025-08-09T17:23:33.372467",
     "status": "completed"
    },
    "tags": []
   },
   "source": [
    "Adjusting the `display settings` for NumPy, PyTorch, and pandas to show longer lines and limiting scientific notation for easier readability"
   ]
  },
  {
   "cell_type": "code",
   "execution_count": 3,
   "id": "cebe1a7f",
   "metadata": {
    "execution": {
     "iopub.execute_input": "2025-08-09T17:23:33.453901Z",
     "iopub.status.busy": "2025-08-09T17:23:33.452974Z",
     "iopub.status.idle": "2025-08-09T17:23:33.457750Z",
     "shell.execute_reply": "2025-08-09T17:23:33.456971Z"
    },
    "papermill": {
     "duration": 0.033099,
     "end_time": "2025-08-09T17:23:33.458809",
     "exception": false,
     "start_time": "2025-08-09T17:23:33.425710",
     "status": "completed"
    },
    "tags": []
   },
   "outputs": [],
   "source": [
    "import numpy as np\n",
    "\n",
    "np.set_printoptions(linewidth=140)\n",
    "torch.set_printoptions(linewidth=140, sci_mode=False, edgeitems=7)\n",
    "pd.set_option('display.width', 140)"
   ]
  },
  {
   "cell_type": "code",
   "execution_count": 4,
   "id": "0d86eae5",
   "metadata": {
    "execution": {
     "iopub.execute_input": "2025-08-09T17:23:33.513426Z",
     "iopub.status.busy": "2025-08-09T17:23:33.513179Z",
     "iopub.status.idle": "2025-08-09T17:23:33.660629Z",
     "shell.execute_reply": "2025-08-09T17:23:33.659809Z"
    },
    "papermill": {
     "duration": 0.176131,
     "end_time": "2025-08-09T17:23:33.661949",
     "exception": false,
     "start_time": "2025-08-09T17:23:33.485818",
     "status": "completed"
    },
    "tags": []
   },
   "outputs": [
    {
     "name": "stdout",
     "output_type": "stream",
     "text": [
      "WA_Fn-UseC_-Telco-Customer-Churn.csv\r\n"
     ]
    }
   ],
   "source": [
    "!ls {path}"
   ]
  },
  {
   "cell_type": "markdown",
   "id": "41a895ea",
   "metadata": {
    "papermill": {
     "duration": 0.026391,
     "end_time": "2025-08-09T17:23:33.715006",
     "exception": false,
     "start_time": "2025-08-09T17:23:33.688615",
     "status": "completed"
    },
    "tags": []
   },
   "source": [
    "## Preparing the DataFrame"
   ]
  },
  {
   "cell_type": "markdown",
   "id": "34f51583",
   "metadata": {
    "papermill": {
     "duration": 0.027694,
     "end_time": "2025-08-09T17:23:33.769318",
     "exception": false,
     "start_time": "2025-08-09T17:23:33.741624",
     "status": "completed"
    },
    "tags": []
   },
   "source": [
    "We'll import the CSV file into a Pandas DataFrame and display the first few rows"
   ]
  },
  {
   "cell_type": "code",
   "execution_count": 5,
   "id": "d5c75ff6",
   "metadata": {
    "execution": {
     "iopub.execute_input": "2025-08-09T17:23:33.823969Z",
     "iopub.status.busy": "2025-08-09T17:23:33.823263Z",
     "iopub.status.idle": "2025-08-09T17:23:33.925469Z",
     "shell.execute_reply": "2025-08-09T17:23:33.924633Z"
    },
    "papermill": {
     "duration": 0.130797,
     "end_time": "2025-08-09T17:23:33.926717",
     "exception": false,
     "start_time": "2025-08-09T17:23:33.795920",
     "status": "completed"
    },
    "tags": []
   },
   "outputs": [
    {
     "data": {
      "text/html": [
       "<div>\n",
       "<style scoped>\n",
       "    .dataframe tbody tr th:only-of-type {\n",
       "        vertical-align: middle;\n",
       "    }\n",
       "\n",
       "    .dataframe tbody tr th {\n",
       "        vertical-align: top;\n",
       "    }\n",
       "\n",
       "    .dataframe thead th {\n",
       "        text-align: right;\n",
       "    }\n",
       "</style>\n",
       "<table border=\"1\" class=\"dataframe\">\n",
       "  <thead>\n",
       "    <tr style=\"text-align: right;\">\n",
       "      <th></th>\n",
       "      <th>customerID</th>\n",
       "      <th>gender</th>\n",
       "      <th>SeniorCitizen</th>\n",
       "      <th>Partner</th>\n",
       "      <th>Dependents</th>\n",
       "      <th>tenure</th>\n",
       "      <th>PhoneService</th>\n",
       "      <th>MultipleLines</th>\n",
       "      <th>InternetService</th>\n",
       "      <th>OnlineSecurity</th>\n",
       "      <th>...</th>\n",
       "      <th>DeviceProtection</th>\n",
       "      <th>TechSupport</th>\n",
       "      <th>StreamingTV</th>\n",
       "      <th>StreamingMovies</th>\n",
       "      <th>Contract</th>\n",
       "      <th>PaperlessBilling</th>\n",
       "      <th>PaymentMethod</th>\n",
       "      <th>MonthlyCharges</th>\n",
       "      <th>TotalCharges</th>\n",
       "      <th>Churn</th>\n",
       "    </tr>\n",
       "  </thead>\n",
       "  <tbody>\n",
       "    <tr>\n",
       "      <th>0</th>\n",
       "      <td>7590-VHVEG</td>\n",
       "      <td>Female</td>\n",
       "      <td>0</td>\n",
       "      <td>Yes</td>\n",
       "      <td>No</td>\n",
       "      <td>1</td>\n",
       "      <td>No</td>\n",
       "      <td>No phone service</td>\n",
       "      <td>DSL</td>\n",
       "      <td>No</td>\n",
       "      <td>...</td>\n",
       "      <td>No</td>\n",
       "      <td>No</td>\n",
       "      <td>No</td>\n",
       "      <td>No</td>\n",
       "      <td>Month-to-month</td>\n",
       "      <td>Yes</td>\n",
       "      <td>Electronic check</td>\n",
       "      <td>29.85</td>\n",
       "      <td>29.85</td>\n",
       "      <td>No</td>\n",
       "    </tr>\n",
       "    <tr>\n",
       "      <th>1</th>\n",
       "      <td>5575-GNVDE</td>\n",
       "      <td>Male</td>\n",
       "      <td>0</td>\n",
       "      <td>No</td>\n",
       "      <td>No</td>\n",
       "      <td>34</td>\n",
       "      <td>Yes</td>\n",
       "      <td>No</td>\n",
       "      <td>DSL</td>\n",
       "      <td>Yes</td>\n",
       "      <td>...</td>\n",
       "      <td>Yes</td>\n",
       "      <td>No</td>\n",
       "      <td>No</td>\n",
       "      <td>No</td>\n",
       "      <td>One year</td>\n",
       "      <td>No</td>\n",
       "      <td>Mailed check</td>\n",
       "      <td>56.95</td>\n",
       "      <td>1889.5</td>\n",
       "      <td>No</td>\n",
       "    </tr>\n",
       "    <tr>\n",
       "      <th>2</th>\n",
       "      <td>3668-QPYBK</td>\n",
       "      <td>Male</td>\n",
       "      <td>0</td>\n",
       "      <td>No</td>\n",
       "      <td>No</td>\n",
       "      <td>2</td>\n",
       "      <td>Yes</td>\n",
       "      <td>No</td>\n",
       "      <td>DSL</td>\n",
       "      <td>Yes</td>\n",
       "      <td>...</td>\n",
       "      <td>No</td>\n",
       "      <td>No</td>\n",
       "      <td>No</td>\n",
       "      <td>No</td>\n",
       "      <td>Month-to-month</td>\n",
       "      <td>Yes</td>\n",
       "      <td>Mailed check</td>\n",
       "      <td>53.85</td>\n",
       "      <td>108.15</td>\n",
       "      <td>Yes</td>\n",
       "    </tr>\n",
       "    <tr>\n",
       "      <th>3</th>\n",
       "      <td>7795-CFOCW</td>\n",
       "      <td>Male</td>\n",
       "      <td>0</td>\n",
       "      <td>No</td>\n",
       "      <td>No</td>\n",
       "      <td>45</td>\n",
       "      <td>No</td>\n",
       "      <td>No phone service</td>\n",
       "      <td>DSL</td>\n",
       "      <td>Yes</td>\n",
       "      <td>...</td>\n",
       "      <td>Yes</td>\n",
       "      <td>Yes</td>\n",
       "      <td>No</td>\n",
       "      <td>No</td>\n",
       "      <td>One year</td>\n",
       "      <td>No</td>\n",
       "      <td>Bank transfer (automatic)</td>\n",
       "      <td>42.30</td>\n",
       "      <td>1840.75</td>\n",
       "      <td>No</td>\n",
       "    </tr>\n",
       "    <tr>\n",
       "      <th>4</th>\n",
       "      <td>9237-HQITU</td>\n",
       "      <td>Female</td>\n",
       "      <td>0</td>\n",
       "      <td>No</td>\n",
       "      <td>No</td>\n",
       "      <td>2</td>\n",
       "      <td>Yes</td>\n",
       "      <td>No</td>\n",
       "      <td>Fiber optic</td>\n",
       "      <td>No</td>\n",
       "      <td>...</td>\n",
       "      <td>No</td>\n",
       "      <td>No</td>\n",
       "      <td>No</td>\n",
       "      <td>No</td>\n",
       "      <td>Month-to-month</td>\n",
       "      <td>Yes</td>\n",
       "      <td>Electronic check</td>\n",
       "      <td>70.70</td>\n",
       "      <td>151.65</td>\n",
       "      <td>Yes</td>\n",
       "    </tr>\n",
       "  </tbody>\n",
       "</table>\n",
       "<p>5 rows × 21 columns</p>\n",
       "</div>"
      ],
      "text/plain": [
       "   customerID  gender  SeniorCitizen Partner Dependents  tenure PhoneService     MultipleLines InternetService OnlineSecurity  ...  \\\n",
       "0  7590-VHVEG  Female              0     Yes         No       1           No  No phone service             DSL             No  ...   \n",
       "1  5575-GNVDE    Male              0      No         No      34          Yes                No             DSL            Yes  ...   \n",
       "2  3668-QPYBK    Male              0      No         No       2          Yes                No             DSL            Yes  ...   \n",
       "3  7795-CFOCW    Male              0      No         No      45           No  No phone service             DSL            Yes  ...   \n",
       "4  9237-HQITU  Female              0      No         No       2          Yes                No     Fiber optic             No  ...   \n",
       "\n",
       "  DeviceProtection TechSupport StreamingTV StreamingMovies        Contract PaperlessBilling              PaymentMethod MonthlyCharges  \\\n",
       "0               No          No          No              No  Month-to-month              Yes           Electronic check          29.85   \n",
       "1              Yes          No          No              No        One year               No               Mailed check          56.95   \n",
       "2               No          No          No              No  Month-to-month              Yes               Mailed check          53.85   \n",
       "3              Yes         Yes          No              No        One year               No  Bank transfer (automatic)          42.30   \n",
       "4               No          No          No              No  Month-to-month              Yes           Electronic check          70.70   \n",
       "\n",
       "   TotalCharges Churn  \n",
       "0         29.85    No  \n",
       "1        1889.5    No  \n",
       "2        108.15   Yes  \n",
       "3       1840.75    No  \n",
       "4        151.65   Yes  \n",
       "\n",
       "[5 rows x 21 columns]"
      ]
     },
     "execution_count": 5,
     "metadata": {},
     "output_type": "execute_result"
    }
   ],
   "source": [
    "full_df = pd.read_csv(path/'WA_Fn-UseC_-Telco-Customer-Churn.csv')\n",
    "full_df.head()"
   ]
  },
  {
   "cell_type": "markdown",
   "id": "62e03596",
   "metadata": {
    "papermill": {
     "duration": 0.027195,
     "end_time": "2025-08-09T17:23:33.981057",
     "exception": false,
     "start_time": "2025-08-09T17:23:33.953862",
     "status": "completed"
    },
    "tags": []
   },
   "source": [
    "We'll set 10% of the rows aside for the `test set` to make sure the model makes its final predictions on entirely new data which is not part of the training process"
   ]
  },
  {
   "cell_type": "code",
   "execution_count": 6,
   "id": "a83234fa",
   "metadata": {
    "execution": {
     "iopub.execute_input": "2025-08-09T17:23:34.036198Z",
     "iopub.status.busy": "2025-08-09T17:23:34.036001Z",
     "iopub.status.idle": "2025-08-09T17:23:34.040738Z",
     "shell.execute_reply": "2025-08-09T17:23:34.040131Z"
    },
    "papermill": {
     "duration": 0.032724,
     "end_time": "2025-08-09T17:23:34.041872",
     "exception": false,
     "start_time": "2025-08-09T17:23:34.009148",
     "status": "completed"
    },
    "tags": []
   },
   "outputs": [],
   "source": [
    "test_size = int(0.10 * len(full_df))\n",
    "\n",
    "df = full_df.iloc[:-test_size].copy()\n",
    "test_df = full_df.iloc[-test_size:].copy()"
   ]
  },
  {
   "cell_type": "code",
   "execution_count": 7,
   "id": "a11df742",
   "metadata": {
    "execution": {
     "iopub.execute_input": "2025-08-09T17:23:34.096181Z",
     "iopub.status.busy": "2025-08-09T17:23:34.095998Z",
     "iopub.status.idle": "2025-08-09T17:23:34.100617Z",
     "shell.execute_reply": "2025-08-09T17:23:34.099925Z"
    },
    "papermill": {
     "duration": 0.033188,
     "end_time": "2025-08-09T17:23:34.101729",
     "exception": false,
     "start_time": "2025-08-09T17:23:34.068541",
     "status": "completed"
    },
    "tags": []
   },
   "outputs": [
    {
     "data": {
      "text/plain": [
       "(6339, 704)"
      ]
     },
     "execution_count": 7,
     "metadata": {},
     "output_type": "execute_result"
    }
   ],
   "source": [
    "len(df), len(test_df)"
   ]
  },
  {
   "cell_type": "markdown",
   "id": "d0fa6744",
   "metadata": {
    "papermill": {
     "duration": 0.026733,
     "end_time": "2025-08-09T17:23:34.155144",
     "exception": false,
     "start_time": "2025-08-09T17:23:34.128411",
     "status": "completed"
    },
    "tags": []
   },
   "source": [
    "## Feature Engineering"
   ]
  },
  {
   "cell_type": "markdown",
   "id": "c7b29e08",
   "metadata": {
    "papermill": {
     "duration": 0.026139,
     "end_time": "2025-08-09T17:23:34.208423",
     "exception": false,
     "start_time": "2025-08-09T17:23:34.182284",
     "status": "completed"
    },
    "tags": []
   },
   "source": [
    "Below output shows us that dataset doesn't contain any null values"
   ]
  },
  {
   "cell_type": "code",
   "execution_count": 8,
   "id": "b626ef06",
   "metadata": {
    "execution": {
     "iopub.execute_input": "2025-08-09T17:23:34.263553Z",
     "iopub.status.busy": "2025-08-09T17:23:34.262906Z",
     "iopub.status.idle": "2025-08-09T17:23:34.275414Z",
     "shell.execute_reply": "2025-08-09T17:23:34.274667Z"
    },
    "papermill": {
     "duration": 0.041557,
     "end_time": "2025-08-09T17:23:34.276738",
     "exception": false,
     "start_time": "2025-08-09T17:23:34.235181",
     "status": "completed"
    },
    "tags": []
   },
   "outputs": [
    {
     "data": {
      "text/plain": [
       "customerID          0\n",
       "gender              0\n",
       "SeniorCitizen       0\n",
       "Partner             0\n",
       "Dependents          0\n",
       "tenure              0\n",
       "PhoneService        0\n",
       "MultipleLines       0\n",
       "InternetService     0\n",
       "OnlineSecurity      0\n",
       "OnlineBackup        0\n",
       "DeviceProtection    0\n",
       "TechSupport         0\n",
       "StreamingTV         0\n",
       "StreamingMovies     0\n",
       "Contract            0\n",
       "PaperlessBilling    0\n",
       "PaymentMethod       0\n",
       "MonthlyCharges      0\n",
       "TotalCharges        0\n",
       "Churn               0\n",
       "dtype: int64"
      ]
     },
     "execution_count": 8,
     "metadata": {},
     "output_type": "execute_result"
    }
   ],
   "source": [
    "df.isna().sum()"
   ]
  },
  {
   "cell_type": "markdown",
   "id": "f352f171",
   "metadata": {
    "papermill": {
     "duration": 0.027485,
     "end_time": "2025-08-09T17:23:34.332914",
     "exception": false,
     "start_time": "2025-08-09T17:23:34.305429",
     "status": "completed"
    },
    "tags": []
   },
   "source": [
    "Displaying `summary statistics` (like count, unique values, top value, and frequency) for numeric columns in the DataFrame.\n",
    "\n",
    "This helps us to check for any unusually large values that could dominate the results and cause issues in the model."
   ]
  },
  {
   "cell_type": "code",
   "execution_count": 9,
   "id": "829a5a13",
   "metadata": {
    "execution": {
     "iopub.execute_input": "2025-08-09T17:23:34.389980Z",
     "iopub.status.busy": "2025-08-09T17:23:34.389226Z",
     "iopub.status.idle": "2025-08-09T17:23:34.418420Z",
     "shell.execute_reply": "2025-08-09T17:23:34.417665Z"
    },
    "papermill": {
     "duration": 0.059177,
     "end_time": "2025-08-09T17:23:34.419684",
     "exception": false,
     "start_time": "2025-08-09T17:23:34.360507",
     "status": "completed"
    },
    "tags": []
   },
   "outputs": [
    {
     "data": {
      "text/html": [
       "<div>\n",
       "<style scoped>\n",
       "    .dataframe tbody tr th:only-of-type {\n",
       "        vertical-align: middle;\n",
       "    }\n",
       "\n",
       "    .dataframe tbody tr th {\n",
       "        vertical-align: top;\n",
       "    }\n",
       "\n",
       "    .dataframe thead th {\n",
       "        text-align: right;\n",
       "    }\n",
       "</style>\n",
       "<table border=\"1\" class=\"dataframe\">\n",
       "  <thead>\n",
       "    <tr style=\"text-align: right;\">\n",
       "      <th></th>\n",
       "      <th>SeniorCitizen</th>\n",
       "      <th>tenure</th>\n",
       "      <th>MonthlyCharges</th>\n",
       "    </tr>\n",
       "  </thead>\n",
       "  <tbody>\n",
       "    <tr>\n",
       "      <th>count</th>\n",
       "      <td>6339.00</td>\n",
       "      <td>6339.00</td>\n",
       "      <td>6339.00</td>\n",
       "    </tr>\n",
       "    <tr>\n",
       "      <th>mean</th>\n",
       "      <td>0.16</td>\n",
       "      <td>32.33</td>\n",
       "      <td>64.70</td>\n",
       "    </tr>\n",
       "    <tr>\n",
       "      <th>std</th>\n",
       "      <td>0.37</td>\n",
       "      <td>24.59</td>\n",
       "      <td>30.16</td>\n",
       "    </tr>\n",
       "    <tr>\n",
       "      <th>min</th>\n",
       "      <td>0.00</td>\n",
       "      <td>0.00</td>\n",
       "      <td>18.25</td>\n",
       "    </tr>\n",
       "    <tr>\n",
       "      <th>25%</th>\n",
       "      <td>0.00</td>\n",
       "      <td>9.00</td>\n",
       "      <td>35.10</td>\n",
       "    </tr>\n",
       "    <tr>\n",
       "      <th>50%</th>\n",
       "      <td>0.00</td>\n",
       "      <td>29.00</td>\n",
       "      <td>70.40</td>\n",
       "    </tr>\n",
       "    <tr>\n",
       "      <th>75%</th>\n",
       "      <td>0.00</td>\n",
       "      <td>55.00</td>\n",
       "      <td>89.85</td>\n",
       "    </tr>\n",
       "    <tr>\n",
       "      <th>max</th>\n",
       "      <td>1.00</td>\n",
       "      <td>72.00</td>\n",
       "      <td>118.75</td>\n",
       "    </tr>\n",
       "  </tbody>\n",
       "</table>\n",
       "</div>"
      ],
      "text/plain": [
       "       SeniorCitizen  tenure  MonthlyCharges\n",
       "count        6339.00 6339.00         6339.00\n",
       "mean            0.16   32.33           64.70\n",
       "std             0.37   24.59           30.16\n",
       "min             0.00    0.00           18.25\n",
       "25%             0.00    9.00           35.10\n",
       "50%             0.00   29.00           70.40\n",
       "75%             0.00   55.00           89.85\n",
       "max             1.00   72.00          118.75"
      ]
     },
     "execution_count": 9,
     "metadata": {},
     "output_type": "execute_result"
    }
   ],
   "source": [
    "df.describe(include=(np.number))"
   ]
  },
  {
   "cell_type": "markdown",
   "id": "c5663e04",
   "metadata": {
    "papermill": {
     "duration": 0.027697,
     "end_time": "2025-08-09T17:23:34.475607",
     "exception": false,
     "start_time": "2025-08-09T17:23:34.447910",
     "status": "completed"
    },
    "tags": []
   },
   "source": [
    "From the above summary, it looke like none of the numerical columns contain exceptionally large values."
   ]
  },
  {
   "cell_type": "code",
   "execution_count": 10,
   "id": "beeceacf",
   "metadata": {
    "execution": {
     "iopub.execute_input": "2025-08-09T17:23:34.531611Z",
     "iopub.status.busy": "2025-08-09T17:23:34.531285Z",
     "iopub.status.idle": "2025-08-09T17:23:34.541077Z",
     "shell.execute_reply": "2025-08-09T17:23:34.540360Z"
    },
    "papermill": {
     "duration": 0.038888,
     "end_time": "2025-08-09T17:23:34.542278",
     "exception": false,
     "start_time": "2025-08-09T17:23:34.503390",
     "status": "completed"
    },
    "tags": []
   },
   "outputs": [
    {
     "data": {
      "text/plain": [
       "array([0, 1])"
      ]
     },
     "execution_count": 10,
     "metadata": {},
     "output_type": "execute_result"
    }
   ],
   "source": [
    "df.SeniorCitizen.unique()"
   ]
  },
  {
   "cell_type": "markdown",
   "id": "2e6941fb",
   "metadata": {
    "papermill": {
     "duration": 0.027073,
     "end_time": "2025-08-09T17:23:34.596648",
     "exception": false,
     "start_time": "2025-08-09T17:23:34.569575",
     "status": "completed"
    },
    "tags": []
   },
   "source": [
    "In a similar way, we can display summary statistics for non-numerical columns in the DataFrame."
   ]
  },
  {
   "cell_type": "code",
   "execution_count": 11,
   "id": "fbcdae03",
   "metadata": {
    "execution": {
     "iopub.execute_input": "2025-08-09T17:23:34.650941Z",
     "iopub.status.busy": "2025-08-09T17:23:34.650689Z",
     "iopub.status.idle": "2025-08-09T17:23:34.695930Z",
     "shell.execute_reply": "2025-08-09T17:23:34.695189Z"
    },
    "papermill": {
     "duration": 0.073571,
     "end_time": "2025-08-09T17:23:34.697004",
     "exception": false,
     "start_time": "2025-08-09T17:23:34.623433",
     "status": "completed"
    },
    "tags": []
   },
   "outputs": [
    {
     "data": {
      "text/html": [
       "<div>\n",
       "<style scoped>\n",
       "    .dataframe tbody tr th:only-of-type {\n",
       "        vertical-align: middle;\n",
       "    }\n",
       "\n",
       "    .dataframe tbody tr th {\n",
       "        vertical-align: top;\n",
       "    }\n",
       "\n",
       "    .dataframe thead th {\n",
       "        text-align: right;\n",
       "    }\n",
       "</style>\n",
       "<table border=\"1\" class=\"dataframe\">\n",
       "  <thead>\n",
       "    <tr style=\"text-align: right;\">\n",
       "      <th></th>\n",
       "      <th>customerID</th>\n",
       "      <th>gender</th>\n",
       "      <th>Partner</th>\n",
       "      <th>Dependents</th>\n",
       "      <th>PhoneService</th>\n",
       "      <th>MultipleLines</th>\n",
       "      <th>InternetService</th>\n",
       "      <th>OnlineSecurity</th>\n",
       "      <th>OnlineBackup</th>\n",
       "      <th>DeviceProtection</th>\n",
       "      <th>TechSupport</th>\n",
       "      <th>StreamingTV</th>\n",
       "      <th>StreamingMovies</th>\n",
       "      <th>Contract</th>\n",
       "      <th>PaperlessBilling</th>\n",
       "      <th>PaymentMethod</th>\n",
       "      <th>TotalCharges</th>\n",
       "      <th>Churn</th>\n",
       "    </tr>\n",
       "  </thead>\n",
       "  <tbody>\n",
       "    <tr>\n",
       "      <th>count</th>\n",
       "      <td>6339</td>\n",
       "      <td>6339</td>\n",
       "      <td>6339</td>\n",
       "      <td>6339</td>\n",
       "      <td>6339</td>\n",
       "      <td>6339</td>\n",
       "      <td>6339</td>\n",
       "      <td>6339</td>\n",
       "      <td>6339</td>\n",
       "      <td>6339</td>\n",
       "      <td>6339</td>\n",
       "      <td>6339</td>\n",
       "      <td>6339</td>\n",
       "      <td>6339</td>\n",
       "      <td>6339</td>\n",
       "      <td>6339</td>\n",
       "      <td>6339</td>\n",
       "      <td>6339</td>\n",
       "    </tr>\n",
       "    <tr>\n",
       "      <th>unique</th>\n",
       "      <td>6339</td>\n",
       "      <td>2</td>\n",
       "      <td>2</td>\n",
       "      <td>2</td>\n",
       "      <td>2</td>\n",
       "      <td>3</td>\n",
       "      <td>3</td>\n",
       "      <td>3</td>\n",
       "      <td>3</td>\n",
       "      <td>3</td>\n",
       "      <td>3</td>\n",
       "      <td>3</td>\n",
       "      <td>3</td>\n",
       "      <td>3</td>\n",
       "      <td>2</td>\n",
       "      <td>4</td>\n",
       "      <td>5906</td>\n",
       "      <td>2</td>\n",
       "    </tr>\n",
       "    <tr>\n",
       "      <th>top</th>\n",
       "      <td>2081-KJSQF</td>\n",
       "      <td>Male</td>\n",
       "      <td>No</td>\n",
       "      <td>No</td>\n",
       "      <td>Yes</td>\n",
       "      <td>No</td>\n",
       "      <td>Fiber optic</td>\n",
       "      <td>No</td>\n",
       "      <td>No</td>\n",
       "      <td>No</td>\n",
       "      <td>No</td>\n",
       "      <td>No</td>\n",
       "      <td>No</td>\n",
       "      <td>Month-to-month</td>\n",
       "      <td>Yes</td>\n",
       "      <td>Electronic check</td>\n",
       "      <td>20.2</td>\n",
       "      <td>No</td>\n",
       "    </tr>\n",
       "    <tr>\n",
       "      <th>freq</th>\n",
       "      <td>1</td>\n",
       "      <td>3198</td>\n",
       "      <td>3279</td>\n",
       "      <td>4458</td>\n",
       "      <td>5739</td>\n",
       "      <td>3059</td>\n",
       "      <td>2787</td>\n",
       "      <td>3132</td>\n",
       "      <td>2780</td>\n",
       "      <td>2770</td>\n",
       "      <td>3133</td>\n",
       "      <td>2526</td>\n",
       "      <td>2484</td>\n",
       "      <td>3495</td>\n",
       "      <td>3745</td>\n",
       "      <td>2130</td>\n",
       "      <td>10</td>\n",
       "      <td>4665</td>\n",
       "    </tr>\n",
       "  </tbody>\n",
       "</table>\n",
       "</div>"
      ],
      "text/plain": [
       "        customerID gender Partner Dependents PhoneService MultipleLines InternetService OnlineSecurity OnlineBackup DeviceProtection  \\\n",
       "count         6339   6339    6339       6339         6339          6339            6339           6339         6339             6339   \n",
       "unique        6339      2       2          2            2             3               3              3            3                3   \n",
       "top     2081-KJSQF   Male      No         No          Yes            No     Fiber optic             No           No               No   \n",
       "freq             1   3198    3279       4458         5739          3059            2787           3132         2780             2770   \n",
       "\n",
       "       TechSupport StreamingTV StreamingMovies        Contract PaperlessBilling     PaymentMethod TotalCharges Churn  \n",
       "count         6339        6339            6339            6339             6339              6339         6339  6339  \n",
       "unique           3           3               3               3                2                 4         5906     2  \n",
       "top             No          No              No  Month-to-month              Yes  Electronic check         20.2    No  \n",
       "freq          3133        2526            2484            3495             3745              2130           10  4665  "
      ]
     },
     "execution_count": 11,
     "metadata": {},
     "output_type": "execute_result"
    }
   ],
   "source": [
    "df.describe(include=[object])"
   ]
  },
  {
   "cell_type": "markdown",
   "id": "3191cf6e",
   "metadata": {
    "papermill": {
     "duration": 0.026992,
     "end_time": "2025-08-09T17:23:34.751013",
     "exception": false,
     "start_time": "2025-08-09T17:23:34.724021",
     "status": "completed"
    },
    "tags": []
   },
   "source": [
    "From the summary of non-numeric columns, it appears that each row has a unique value for `customerID`, so we can likely exclude this field from model training.\n",
    "\n",
    "On the other hand, other non-numeric fields such as **gender**, **Partner**, **Dependents**, and **PhoneService**, which contain 2-3 categories, should be converted into integer categories because string values can't be multiplied by coefficients.\n",
    "\n",
    "Additionally, `TotalCharges` seems to have float values stored as strings, so we should convert it to a numeric column to handle any missing values more easily."
   ]
  },
  {
   "cell_type": "code",
   "execution_count": 12,
   "id": "9c8c3d97",
   "metadata": {
    "execution": {
     "iopub.execute_input": "2025-08-09T17:23:34.806572Z",
     "iopub.status.busy": "2025-08-09T17:23:34.805963Z",
     "iopub.status.idle": "2025-08-09T17:23:34.823753Z",
     "shell.execute_reply": "2025-08-09T17:23:34.822760Z"
    },
    "papermill": {
     "duration": 0.047326,
     "end_time": "2025-08-09T17:23:34.825154",
     "exception": false,
     "start_time": "2025-08-09T17:23:34.777828",
     "status": "completed"
    },
    "tags": []
   },
   "outputs": [
    {
     "name": "stdout",
     "output_type": "stream",
     "text": [
      "       SeniorCitizen  tenure  MonthlyCharges  TotalCharges\n",
      "count        6339.00 6339.00         6339.00       6330.00\n",
      "mean            0.16   32.33           64.70       2279.15\n",
      "std             0.37   24.59           30.16       2269.62\n",
      "min             0.00    0.00           18.25         18.80\n",
      "25%             0.00    9.00           35.10        396.48\n",
      "50%             0.00   29.00           70.40       1395.65\n",
      "75%             0.00   55.00           89.85       3775.05\n",
      "max             1.00   72.00          118.75       8684.80\n"
     ]
    }
   ],
   "source": [
    "df['TotalCharges'] = pd.to_numeric(df['TotalCharges'], errors='coerce')\n",
    "print(df.describe(include=(np.number)))"
   ]
  },
  {
   "cell_type": "markdown",
   "id": "cc9d58ff",
   "metadata": {
    "papermill": {
     "duration": 0.026614,
     "end_time": "2025-08-09T17:23:34.880435",
     "exception": false,
     "start_time": "2025-08-09T17:23:34.853821",
     "status": "completed"
    },
    "tags": []
   },
   "source": [
    "Displaying `unique values` for each non numerical column in the DataFrame"
   ]
  },
  {
   "cell_type": "code",
   "execution_count": 13,
   "id": "14812b76",
   "metadata": {
    "execution": {
     "iopub.execute_input": "2025-08-09T17:23:34.935116Z",
     "iopub.status.busy": "2025-08-09T17:23:34.934488Z",
     "iopub.status.idle": "2025-08-09T17:23:34.950766Z",
     "shell.execute_reply": "2025-08-09T17:23:34.949921Z"
    },
    "papermill": {
     "duration": 0.044726,
     "end_time": "2025-08-09T17:23:34.951890",
     "exception": false,
     "start_time": "2025-08-09T17:23:34.907164",
     "status": "completed"
    },
    "tags": []
   },
   "outputs": [
    {
     "name": "stdout",
     "output_type": "stream",
     "text": [
      "Column: customerID\n",
      "['7590-VHVEG' '5575-GNVDE' '3668-QPYBK' ... '8647-SDTWQ' '2696-ECXKC' '2081-KJSQF']\n",
      "----------------------------------------\n",
      "Column: gender\n",
      "['Female' 'Male']\n",
      "----------------------------------------\n",
      "Column: Partner\n",
      "['Yes' 'No']\n",
      "----------------------------------------\n",
      "Column: Dependents\n",
      "['No' 'Yes']\n",
      "----------------------------------------\n",
      "Column: PhoneService\n",
      "['No' 'Yes']\n",
      "----------------------------------------\n",
      "Column: MultipleLines\n",
      "['No phone service' 'No' 'Yes']\n",
      "----------------------------------------\n",
      "Column: InternetService\n",
      "['DSL' 'Fiber optic' 'No']\n",
      "----------------------------------------\n",
      "Column: OnlineSecurity\n",
      "['No' 'Yes' 'No internet service']\n",
      "----------------------------------------\n",
      "Column: OnlineBackup\n",
      "['Yes' 'No' 'No internet service']\n",
      "----------------------------------------\n",
      "Column: DeviceProtection\n",
      "['No' 'Yes' 'No internet service']\n",
      "----------------------------------------\n",
      "Column: TechSupport\n",
      "['No' 'Yes' 'No internet service']\n",
      "----------------------------------------\n",
      "Column: StreamingTV\n",
      "['No' 'Yes' 'No internet service']\n",
      "----------------------------------------\n",
      "Column: StreamingMovies\n",
      "['No' 'Yes' 'No internet service']\n",
      "----------------------------------------\n",
      "Column: Contract\n",
      "['Month-to-month' 'One year' 'Two year']\n",
      "----------------------------------------\n",
      "Column: PaperlessBilling\n",
      "['Yes' 'No']\n",
      "----------------------------------------\n",
      "Column: PaymentMethod\n",
      "['Electronic check' 'Mailed check' 'Bank transfer (automatic)' 'Credit card (automatic)']\n",
      "----------------------------------------\n",
      "Column: Churn\n",
      "['No' 'Yes']\n",
      "----------------------------------------\n"
     ]
    }
   ],
   "source": [
    "for col in df.select_dtypes(include=[object]).columns:\n",
    "    print(f\"Column: {col}\")\n",
    "    print(df[col].unique())\n",
    "    print('--' * 20)"
   ]
  },
  {
   "cell_type": "markdown",
   "id": "186ba8ed",
   "metadata": {
    "papermill": {
     "duration": 0.028357,
     "end_time": "2025-08-09T17:23:35.007735",
     "exception": false,
     "start_time": "2025-08-09T17:23:34.979378",
     "status": "completed"
    },
    "tags": []
   },
   "source": [
    "After converting TotalCharges to a numerical feature, we observe that it contains null values. These null values will be addressed when we create the dataloaders in FastAI."
   ]
  },
  {
   "cell_type": "code",
   "execution_count": 14,
   "id": "8522ec48",
   "metadata": {
    "execution": {
     "iopub.execute_input": "2025-08-09T17:23:35.063540Z",
     "iopub.status.busy": "2025-08-09T17:23:35.063223Z",
     "iopub.status.idle": "2025-08-09T17:23:35.081816Z",
     "shell.execute_reply": "2025-08-09T17:23:35.080933Z"
    },
    "papermill": {
     "duration": 0.048187,
     "end_time": "2025-08-09T17:23:35.082976",
     "exception": false,
     "start_time": "2025-08-09T17:23:35.034789",
     "status": "completed"
    },
    "tags": []
   },
   "outputs": [
    {
     "data": {
      "text/html": [
       "<div>\n",
       "<style scoped>\n",
       "    .dataframe tbody tr th:only-of-type {\n",
       "        vertical-align: middle;\n",
       "    }\n",
       "\n",
       "    .dataframe tbody tr th {\n",
       "        vertical-align: top;\n",
       "    }\n",
       "\n",
       "    .dataframe thead th {\n",
       "        text-align: right;\n",
       "    }\n",
       "</style>\n",
       "<table border=\"1\" class=\"dataframe\">\n",
       "  <thead>\n",
       "    <tr style=\"text-align: right;\">\n",
       "      <th></th>\n",
       "      <th>customerID</th>\n",
       "      <th>gender</th>\n",
       "      <th>SeniorCitizen</th>\n",
       "      <th>Partner</th>\n",
       "      <th>Dependents</th>\n",
       "      <th>tenure</th>\n",
       "      <th>PhoneService</th>\n",
       "      <th>MultipleLines</th>\n",
       "      <th>InternetService</th>\n",
       "      <th>OnlineSecurity</th>\n",
       "      <th>...</th>\n",
       "      <th>DeviceProtection</th>\n",
       "      <th>TechSupport</th>\n",
       "      <th>StreamingTV</th>\n",
       "      <th>StreamingMovies</th>\n",
       "      <th>Contract</th>\n",
       "      <th>PaperlessBilling</th>\n",
       "      <th>PaymentMethod</th>\n",
       "      <th>MonthlyCharges</th>\n",
       "      <th>TotalCharges</th>\n",
       "      <th>Churn</th>\n",
       "    </tr>\n",
       "  </thead>\n",
       "  <tbody>\n",
       "    <tr>\n",
       "      <th>488</th>\n",
       "      <td>4472-LVYGI</td>\n",
       "      <td>Female</td>\n",
       "      <td>0</td>\n",
       "      <td>Yes</td>\n",
       "      <td>Yes</td>\n",
       "      <td>0</td>\n",
       "      <td>No</td>\n",
       "      <td>No phone service</td>\n",
       "      <td>DSL</td>\n",
       "      <td>Yes</td>\n",
       "      <td>...</td>\n",
       "      <td>Yes</td>\n",
       "      <td>Yes</td>\n",
       "      <td>Yes</td>\n",
       "      <td>No</td>\n",
       "      <td>Two year</td>\n",
       "      <td>Yes</td>\n",
       "      <td>Bank transfer (automatic)</td>\n",
       "      <td>52.55</td>\n",
       "      <td>NaN</td>\n",
       "      <td>No</td>\n",
       "    </tr>\n",
       "    <tr>\n",
       "      <th>753</th>\n",
       "      <td>3115-CZMZD</td>\n",
       "      <td>Male</td>\n",
       "      <td>0</td>\n",
       "      <td>No</td>\n",
       "      <td>Yes</td>\n",
       "      <td>0</td>\n",
       "      <td>Yes</td>\n",
       "      <td>No</td>\n",
       "      <td>No</td>\n",
       "      <td>No internet service</td>\n",
       "      <td>...</td>\n",
       "      <td>No internet service</td>\n",
       "      <td>No internet service</td>\n",
       "      <td>No internet service</td>\n",
       "      <td>No internet service</td>\n",
       "      <td>Two year</td>\n",
       "      <td>No</td>\n",
       "      <td>Mailed check</td>\n",
       "      <td>20.25</td>\n",
       "      <td>NaN</td>\n",
       "      <td>No</td>\n",
       "    </tr>\n",
       "    <tr>\n",
       "      <th>936</th>\n",
       "      <td>5709-LVOEQ</td>\n",
       "      <td>Female</td>\n",
       "      <td>0</td>\n",
       "      <td>Yes</td>\n",
       "      <td>Yes</td>\n",
       "      <td>0</td>\n",
       "      <td>Yes</td>\n",
       "      <td>No</td>\n",
       "      <td>DSL</td>\n",
       "      <td>Yes</td>\n",
       "      <td>...</td>\n",
       "      <td>Yes</td>\n",
       "      <td>No</td>\n",
       "      <td>Yes</td>\n",
       "      <td>Yes</td>\n",
       "      <td>Two year</td>\n",
       "      <td>No</td>\n",
       "      <td>Mailed check</td>\n",
       "      <td>80.85</td>\n",
       "      <td>NaN</td>\n",
       "      <td>No</td>\n",
       "    </tr>\n",
       "    <tr>\n",
       "      <th>1082</th>\n",
       "      <td>4367-NUYAO</td>\n",
       "      <td>Male</td>\n",
       "      <td>0</td>\n",
       "      <td>Yes</td>\n",
       "      <td>Yes</td>\n",
       "      <td>0</td>\n",
       "      <td>Yes</td>\n",
       "      <td>Yes</td>\n",
       "      <td>No</td>\n",
       "      <td>No internet service</td>\n",
       "      <td>...</td>\n",
       "      <td>No internet service</td>\n",
       "      <td>No internet service</td>\n",
       "      <td>No internet service</td>\n",
       "      <td>No internet service</td>\n",
       "      <td>Two year</td>\n",
       "      <td>No</td>\n",
       "      <td>Mailed check</td>\n",
       "      <td>25.75</td>\n",
       "      <td>NaN</td>\n",
       "      <td>No</td>\n",
       "    </tr>\n",
       "    <tr>\n",
       "      <th>1340</th>\n",
       "      <td>1371-DWPAZ</td>\n",
       "      <td>Female</td>\n",
       "      <td>0</td>\n",
       "      <td>Yes</td>\n",
       "      <td>Yes</td>\n",
       "      <td>0</td>\n",
       "      <td>No</td>\n",
       "      <td>No phone service</td>\n",
       "      <td>DSL</td>\n",
       "      <td>Yes</td>\n",
       "      <td>...</td>\n",
       "      <td>Yes</td>\n",
       "      <td>Yes</td>\n",
       "      <td>Yes</td>\n",
       "      <td>No</td>\n",
       "      <td>Two year</td>\n",
       "      <td>No</td>\n",
       "      <td>Credit card (automatic)</td>\n",
       "      <td>56.05</td>\n",
       "      <td>NaN</td>\n",
       "      <td>No</td>\n",
       "    </tr>\n",
       "    <tr>\n",
       "      <th>3331</th>\n",
       "      <td>7644-OMVMY</td>\n",
       "      <td>Male</td>\n",
       "      <td>0</td>\n",
       "      <td>Yes</td>\n",
       "      <td>Yes</td>\n",
       "      <td>0</td>\n",
       "      <td>Yes</td>\n",
       "      <td>No</td>\n",
       "      <td>No</td>\n",
       "      <td>No internet service</td>\n",
       "      <td>...</td>\n",
       "      <td>No internet service</td>\n",
       "      <td>No internet service</td>\n",
       "      <td>No internet service</td>\n",
       "      <td>No internet service</td>\n",
       "      <td>Two year</td>\n",
       "      <td>No</td>\n",
       "      <td>Mailed check</td>\n",
       "      <td>19.85</td>\n",
       "      <td>NaN</td>\n",
       "      <td>No</td>\n",
       "    </tr>\n",
       "    <tr>\n",
       "      <th>3826</th>\n",
       "      <td>3213-VVOLG</td>\n",
       "      <td>Male</td>\n",
       "      <td>0</td>\n",
       "      <td>Yes</td>\n",
       "      <td>Yes</td>\n",
       "      <td>0</td>\n",
       "      <td>Yes</td>\n",
       "      <td>Yes</td>\n",
       "      <td>No</td>\n",
       "      <td>No internet service</td>\n",
       "      <td>...</td>\n",
       "      <td>No internet service</td>\n",
       "      <td>No internet service</td>\n",
       "      <td>No internet service</td>\n",
       "      <td>No internet service</td>\n",
       "      <td>Two year</td>\n",
       "      <td>No</td>\n",
       "      <td>Mailed check</td>\n",
       "      <td>25.35</td>\n",
       "      <td>NaN</td>\n",
       "      <td>No</td>\n",
       "    </tr>\n",
       "    <tr>\n",
       "      <th>4380</th>\n",
       "      <td>2520-SGTTA</td>\n",
       "      <td>Female</td>\n",
       "      <td>0</td>\n",
       "      <td>Yes</td>\n",
       "      <td>Yes</td>\n",
       "      <td>0</td>\n",
       "      <td>Yes</td>\n",
       "      <td>No</td>\n",
       "      <td>No</td>\n",
       "      <td>No internet service</td>\n",
       "      <td>...</td>\n",
       "      <td>No internet service</td>\n",
       "      <td>No internet service</td>\n",
       "      <td>No internet service</td>\n",
       "      <td>No internet service</td>\n",
       "      <td>Two year</td>\n",
       "      <td>No</td>\n",
       "      <td>Mailed check</td>\n",
       "      <td>20.00</td>\n",
       "      <td>NaN</td>\n",
       "      <td>No</td>\n",
       "    </tr>\n",
       "    <tr>\n",
       "      <th>5218</th>\n",
       "      <td>2923-ARZLG</td>\n",
       "      <td>Male</td>\n",
       "      <td>0</td>\n",
       "      <td>Yes</td>\n",
       "      <td>Yes</td>\n",
       "      <td>0</td>\n",
       "      <td>Yes</td>\n",
       "      <td>No</td>\n",
       "      <td>No</td>\n",
       "      <td>No internet service</td>\n",
       "      <td>...</td>\n",
       "      <td>No internet service</td>\n",
       "      <td>No internet service</td>\n",
       "      <td>No internet service</td>\n",
       "      <td>No internet service</td>\n",
       "      <td>One year</td>\n",
       "      <td>Yes</td>\n",
       "      <td>Mailed check</td>\n",
       "      <td>19.70</td>\n",
       "      <td>NaN</td>\n",
       "      <td>No</td>\n",
       "    </tr>\n",
       "  </tbody>\n",
       "</table>\n",
       "<p>9 rows × 21 columns</p>\n",
       "</div>"
      ],
      "text/plain": [
       "      customerID  gender  SeniorCitizen Partner Dependents  tenure PhoneService     MultipleLines InternetService       OnlineSecurity  \\\n",
       "488   4472-LVYGI  Female              0     Yes        Yes       0           No  No phone service             DSL                  Yes   \n",
       "753   3115-CZMZD    Male              0      No        Yes       0          Yes                No              No  No internet service   \n",
       "936   5709-LVOEQ  Female              0     Yes        Yes       0          Yes                No             DSL                  Yes   \n",
       "1082  4367-NUYAO    Male              0     Yes        Yes       0          Yes               Yes              No  No internet service   \n",
       "1340  1371-DWPAZ  Female              0     Yes        Yes       0           No  No phone service             DSL                  Yes   \n",
       "3331  7644-OMVMY    Male              0     Yes        Yes       0          Yes                No              No  No internet service   \n",
       "3826  3213-VVOLG    Male              0     Yes        Yes       0          Yes               Yes              No  No internet service   \n",
       "4380  2520-SGTTA  Female              0     Yes        Yes       0          Yes                No              No  No internet service   \n",
       "5218  2923-ARZLG    Male              0     Yes        Yes       0          Yes                No              No  No internet service   \n",
       "\n",
       "      ...     DeviceProtection          TechSupport          StreamingTV      StreamingMovies  Contract PaperlessBilling  \\\n",
       "488   ...                  Yes                  Yes                  Yes                   No  Two year              Yes   \n",
       "753   ...  No internet service  No internet service  No internet service  No internet service  Two year               No   \n",
       "936   ...                  Yes                   No                  Yes                  Yes  Two year               No   \n",
       "1082  ...  No internet service  No internet service  No internet service  No internet service  Two year               No   \n",
       "1340  ...                  Yes                  Yes                  Yes                   No  Two year               No   \n",
       "3331  ...  No internet service  No internet service  No internet service  No internet service  Two year               No   \n",
       "3826  ...  No internet service  No internet service  No internet service  No internet service  Two year               No   \n",
       "4380  ...  No internet service  No internet service  No internet service  No internet service  Two year               No   \n",
       "5218  ...  No internet service  No internet service  No internet service  No internet service  One year              Yes   \n",
       "\n",
       "                  PaymentMethod MonthlyCharges  TotalCharges  Churn  \n",
       "488   Bank transfer (automatic)          52.55           NaN     No  \n",
       "753                Mailed check          20.25           NaN     No  \n",
       "936                Mailed check          80.85           NaN     No  \n",
       "1082               Mailed check          25.75           NaN     No  \n",
       "1340    Credit card (automatic)          56.05           NaN     No  \n",
       "3331               Mailed check          19.85           NaN     No  \n",
       "3826               Mailed check          25.35           NaN     No  \n",
       "4380               Mailed check          20.00           NaN     No  \n",
       "5218               Mailed check          19.70           NaN     No  \n",
       "\n",
       "[9 rows x 21 columns]"
      ]
     },
     "execution_count": 14,
     "metadata": {},
     "output_type": "execute_result"
    }
   ],
   "source": [
    "df[df['TotalCharges'].isna()]"
   ]
  },
  {
   "cell_type": "markdown",
   "id": "fb17eccf",
   "metadata": {
    "papermill": {
     "duration": 0.02704,
     "end_time": "2025-08-09T17:23:35.137712",
     "exception": false,
     "start_time": "2025-08-09T17:23:35.110672",
     "status": "completed"
    },
    "tags": []
   },
   "source": [
    "`Splitting the DataFrame` into training and validation sets. Note: The test set is created separately and is not a part of this split."
   ]
  },
  {
   "cell_type": "code",
   "execution_count": 15,
   "id": "7ca1abb9",
   "metadata": {
    "execution": {
     "iopub.execute_input": "2025-08-09T17:23:35.193013Z",
     "iopub.status.busy": "2025-08-09T17:23:35.192799Z",
     "iopub.status.idle": "2025-08-09T17:23:35.251947Z",
     "shell.execute_reply": "2025-08-09T17:23:35.251216Z"
    },
    "papermill": {
     "duration": 0.088181,
     "end_time": "2025-08-09T17:23:35.253082",
     "exception": false,
     "start_time": "2025-08-09T17:23:35.164901",
     "status": "completed"
    },
    "tags": []
   },
   "outputs": [],
   "source": [
    "splits = RandomSplitter(seed=42)(df)"
   ]
  },
  {
   "cell_type": "markdown",
   "id": "f6726053",
   "metadata": {
    "papermill": {
     "duration": 0.027752,
     "end_time": "2025-08-09T17:23:35.308293",
     "exception": false,
     "start_time": "2025-08-09T17:23:35.280541",
     "status": "completed"
    },
    "tags": []
   },
   "source": [
    "## Preprocessing with dataloaders"
   ]
  },
  {
   "cell_type": "markdown",
   "id": "ac101a23",
   "metadata": {
    "papermill": {
     "duration": 0.028267,
     "end_time": "2025-08-09T17:23:35.364772",
     "exception": false,
     "start_time": "2025-08-09T17:23:35.336505",
     "status": "completed"
    },
    "tags": []
   },
   "source": [
    "We'll categorize the below list of non-numeric features in the DataFrame."
   ]
  },
  {
   "cell_type": "code",
   "execution_count": 16,
   "id": "a85039be",
   "metadata": {
    "execution": {
     "iopub.execute_input": "2025-08-09T17:23:35.421591Z",
     "iopub.status.busy": "2025-08-09T17:23:35.421273Z",
     "iopub.status.idle": "2025-08-09T17:23:35.425283Z",
     "shell.execute_reply": "2025-08-09T17:23:35.424546Z"
    },
    "papermill": {
     "duration": 0.033821,
     "end_time": "2025-08-09T17:23:35.426543",
     "exception": false,
     "start_time": "2025-08-09T17:23:35.392722",
     "status": "completed"
    },
    "tags": []
   },
   "outputs": [],
   "source": [
    "columns_to_categorize=[\"gender\", \"Partner\", \"Dependents\", \"PhoneService\", \"MultipleLines\", \n",
    "              \"InternetService\", \"OnlineSecurity\", \"OnlineBackup\", \"DeviceProtection\", \n",
    "              \"TechSupport\", \"StreamingTV\", \"StreamingMovies\", \"Contract\", \"PaperlessBilling\", \n",
    "              \"PaymentMethod\"]"
   ]
  },
  {
   "cell_type": "markdown",
   "id": "a8ec79a1",
   "metadata": {
    "papermill": {
     "duration": 0.028917,
     "end_time": "2025-08-09T17:23:35.484046",
     "exception": false,
     "start_time": "2025-08-09T17:23:35.455129",
     "status": "completed"
    },
    "tags": []
   },
   "source": [
    "Creating dataloaders from the DataFrame using `TabularPandas`, applying preprocessing (**categorify**, **fill missing**, **normalize**), and setting up categorical/continuous features and target labels for model training."
   ]
  },
  {
   "cell_type": "code",
   "execution_count": 17,
   "id": "243a5cf2",
   "metadata": {
    "execution": {
     "iopub.execute_input": "2025-08-09T17:23:35.541218Z",
     "iopub.status.busy": "2025-08-09T17:23:35.540486Z",
     "iopub.status.idle": "2025-08-09T17:23:35.771053Z",
     "shell.execute_reply": "2025-08-09T17:23:35.770162Z"
    },
    "papermill": {
     "duration": 0.260602,
     "end_time": "2025-08-09T17:23:35.772476",
     "exception": false,
     "start_time": "2025-08-09T17:23:35.511874",
     "status": "completed"
    },
    "tags": []
   },
   "outputs": [
    {
     "name": "stderr",
     "output_type": "stream",
     "text": [
      "/usr/local/lib/python3.11/dist-packages/fastai/tabular/core.py:314: FutureWarning: A value is trying to be set on a copy of a DataFrame or Series through chained assignment using an inplace method.\n",
      "The behavior will change in pandas 3.0. This inplace method will never work because the intermediate object on which we are setting values always behaves as a copy.\n",
      "\n",
      "For example, when doing 'df[col].method(value, inplace=True)', try using 'df.method({col: value}, inplace=True)' or df[col] = df[col].method(value) instead, to perform the operation inplace on the original object.\n",
      "\n",
      "\n",
      "  to[n].fillna(self.na_dict[n], inplace=True)\n"
     ]
    }
   ],
   "source": [
    "dls = TabularPandas(\n",
    "    df, splits=splits,\n",
    "    procs = [Categorify, FillMissing, Normalize],\n",
    "    cat_names=columns_to_categorize,\n",
    "    cont_names=[\"SeniorCitizen\", \"tenure\", \"MonthlyCharges\", \"TotalCharges\"],\n",
    "    y_names=\"Churn\", y_block = CategoryBlock()\n",
    ").dataloaders(path=\".\")"
   ]
  },
  {
   "cell_type": "markdown",
   "id": "073d2ae8",
   "metadata": {
    "papermill": {
     "duration": 0.02781,
     "end_time": "2025-08-09T17:23:35.831166",
     "exception": false,
     "start_time": "2025-08-09T17:23:35.803356",
     "status": "completed"
    },
    "tags": []
   },
   "source": [
    "Creating a tabular learner model with `two hidden layers` of size 14 each and setting accuracy and precision as the evaluation metrics"
   ]
  },
  {
   "cell_type": "code",
   "execution_count": null,
   "id": "aa5c71b0",
   "metadata": {
    "execution": {
     "iopub.execute_input": "2025-08-09T17:23:35.888567Z",
     "iopub.status.busy": "2025-08-09T17:23:35.888272Z",
     "iopub.status.idle": "2025-08-09T17:23:35.958697Z",
     "shell.execute_reply": "2025-08-09T17:23:35.958110Z"
    },
    "papermill": {
     "duration": 0.101079,
     "end_time": "2025-08-09T17:23:35.959875",
     "exception": false,
     "start_time": "2025-08-09T17:23:35.858796",
     "status": "completed"
    },
    "tags": []
   },
   "outputs": [],
   "source": [
    "from fastai.metrics import accuracy, Precision\n",
    "learn = tabular_learner(dls, metrics=[accuracy, Precision()], layers=[14,14])"
   ]
  },
  {
   "cell_type": "markdown",
   "id": "599dcef0",
   "metadata": {
    "papermill": {
     "duration": 0.029274,
     "end_time": "2025-08-09T17:23:36.017137",
     "exception": false,
     "start_time": "2025-08-09T17:23:35.987863",
     "status": "completed"
    },
    "tags": []
   },
   "source": [
    "To find the optimal value of learning rate, we can plot a graph that shows `Learning Rate against Loss` and visually highlights the **Slide** and **Valley** points: the optimal learning rate is chosen from the loss value that lies between these two points"
   ]
  },
  {
   "cell_type": "code",
   "execution_count": 19,
   "id": "dcb4e48c",
   "metadata": {
    "execution": {
     "iopub.execute_input": "2025-08-09T17:23:36.073655Z",
     "iopub.status.busy": "2025-08-09T17:23:36.073415Z",
     "iopub.status.idle": "2025-08-09T17:23:38.949274Z",
     "shell.execute_reply": "2025-08-09T17:23:38.948523Z"
    },
    "papermill": {
     "duration": 2.905908,
     "end_time": "2025-08-09T17:23:38.950474",
     "exception": false,
     "start_time": "2025-08-09T17:23:36.044566",
     "status": "completed"
    },
    "tags": []
   },
   "outputs": [
    {
     "data": {
      "text/html": [
       "\n",
       "<style>\n",
       "    /* Turns off some styling */\n",
       "    progress {\n",
       "        /* gets rid of default border in Firefox and Opera. */\n",
       "        border: none;\n",
       "        /* Needs to be in here for Safari polyfill so background images work as expected. */\n",
       "        background-size: auto;\n",
       "    }\n",
       "    progress:not([value]), progress:not([value])::-webkit-progress-bar {\n",
       "        background: repeating-linear-gradient(45deg, #7e7e7e, #7e7e7e 10px, #5c5c5c 10px, #5c5c5c 20px);\n",
       "    }\n",
       "    .progress-bar-interrupted, .progress-bar-interrupted::-webkit-progress-bar {\n",
       "        background: #F44336;\n",
       "    }\n",
       "</style>\n"
      ],
      "text/plain": [
       "<IPython.core.display.HTML object>"
      ]
     },
     "metadata": {},
     "output_type": "display_data"
    },
    {
     "data": {
      "text/html": [],
      "text/plain": [
       "<IPython.core.display.HTML object>"
      ]
     },
     "metadata": {},
     "output_type": "display_data"
    },
    {
     "data": {
      "text/plain": [
       "SuggestedLRs(slide=0.0691830962896347, valley=0.0063095735386013985)"
      ]
     },
     "execution_count": 19,
     "metadata": {},
     "output_type": "execute_result"
    },
    {
     "data": {
      "image/png": "[encoded data removed]",
      "text/plain": [
       "<Figure size 640x480 with 1 Axes>"
      ]
     },
     "metadata": {},
     "output_type": "display_data"
    }
   ],
   "source": [
    "learn.lr_find(suggest_funcs=(slide, valley))"
   ]
  },
  {
   "cell_type": "code",
   "execution_count": 20,
   "id": "4e356ae4",
   "metadata": {
    "execution": {
     "iopub.execute_input": "2025-08-09T17:23:39.011967Z",
     "iopub.status.busy": "2025-08-09T17:23:39.011719Z",
     "iopub.status.idle": "2025-08-09T17:23:51.781500Z",
     "shell.execute_reply": "2025-08-09T17:23:51.780846Z"
    },
    "papermill": {
     "duration": 12.802302,
     "end_time": "2025-08-09T17:23:51.782659",
     "exception": false,
     "start_time": "2025-08-09T17:23:38.980357",
     "status": "completed"
    },
    "tags": []
   },
   "outputs": [
    {
     "data": {
      "text/html": [
       "\n",
       "<style>\n",
       "    /* Turns off some styling */\n",
       "    progress {\n",
       "        /* gets rid of default border in Firefox and Opera. */\n",
       "        border: none;\n",
       "        /* Needs to be in here for Safari polyfill so background images work as expected. */\n",
       "        background-size: auto;\n",
       "    }\n",
       "    progress:not([value]), progress:not([value])::-webkit-progress-bar {\n",
       "        background: repeating-linear-gradient(45deg, #7e7e7e, #7e7e7e 10px, #5c5c5c 10px, #5c5c5c 20px);\n",
       "    }\n",
       "    .progress-bar-interrupted, .progress-bar-interrupted::-webkit-progress-bar {\n",
       "        background: #F44336;\n",
       "    }\n",
       "</style>\n"
      ],
      "text/plain": [
       "<IPython.core.display.HTML object>"
      ]
     },
     "metadata": {},
     "output_type": "display_data"
    },
    {
     "data": {
      "text/html": [
       "<table border=\"1\" class=\"dataframe\">\n",
       "  <thead>\n",
       "    <tr style=\"text-align: left;\">\n",
       "      <th>epoch</th>\n",
       "      <th>train_loss</th>\n",
       "      <th>valid_loss</th>\n",
       "      <th>accuracy</th>\n",
       "      <th>precision_score</th>\n",
       "      <th>time</th>\n",
       "    </tr>\n",
       "  </thead>\n",
       "  <tbody>\n",
       "    <tr>\n",
       "      <td>0</td>\n",
       "      <td>0.431357</td>\n",
       "      <td>0.442946</td>\n",
       "      <td>0.789266</td>\n",
       "      <td>0.583072</td>\n",
       "      <td>00:00</td>\n",
       "    </tr>\n",
       "    <tr>\n",
       "      <td>1</td>\n",
       "      <td>0.425288</td>\n",
       "      <td>0.462002</td>\n",
       "      <td>0.775059</td>\n",
       "      <td>0.548747</td>\n",
       "      <td>00:00</td>\n",
       "    </tr>\n",
       "    <tr>\n",
       "      <td>2</td>\n",
       "      <td>0.417086</td>\n",
       "      <td>0.444586</td>\n",
       "      <td>0.780584</td>\n",
       "      <td>0.558989</td>\n",
       "      <td>00:00</td>\n",
       "    </tr>\n",
       "    <tr>\n",
       "      <td>3</td>\n",
       "      <td>0.416013</td>\n",
       "      <td>0.429233</td>\n",
       "      <td>0.806630</td>\n",
       "      <td>0.658228</td>\n",
       "      <td>00:00</td>\n",
       "    </tr>\n",
       "    <tr>\n",
       "      <td>4</td>\n",
       "      <td>0.416253</td>\n",
       "      <td>0.446516</td>\n",
       "      <td>0.783741</td>\n",
       "      <td>0.570122</td>\n",
       "      <td>00:00</td>\n",
       "    </tr>\n",
       "    <tr>\n",
       "      <td>5</td>\n",
       "      <td>0.421542</td>\n",
       "      <td>0.434070</td>\n",
       "      <td>0.789266</td>\n",
       "      <td>0.583596</td>\n",
       "      <td>00:00</td>\n",
       "    </tr>\n",
       "    <tr>\n",
       "      <td>6</td>\n",
       "      <td>0.424498</td>\n",
       "      <td>0.433680</td>\n",
       "      <td>0.790845</td>\n",
       "      <td>0.612245</td>\n",
       "      <td>00:00</td>\n",
       "    </tr>\n",
       "    <tr>\n",
       "      <td>7</td>\n",
       "      <td>0.424855</td>\n",
       "      <td>0.422774</td>\n",
       "      <td>0.798737</td>\n",
       "      <td>0.637131</td>\n",
       "      <td>00:00</td>\n",
       "    </tr>\n",
       "    <tr>\n",
       "      <td>8</td>\n",
       "      <td>0.422656</td>\n",
       "      <td>0.432135</td>\n",
       "      <td>0.802684</td>\n",
       "      <td>0.636719</td>\n",
       "      <td>00:00</td>\n",
       "    </tr>\n",
       "    <tr>\n",
       "      <td>9</td>\n",
       "      <td>0.425336</td>\n",
       "      <td>0.429134</td>\n",
       "      <td>0.801894</td>\n",
       "      <td>0.619377</td>\n",
       "      <td>00:00</td>\n",
       "    </tr>\n",
       "    <tr>\n",
       "      <td>10</td>\n",
       "      <td>0.418394</td>\n",
       "      <td>0.429717</td>\n",
       "      <td>0.790845</td>\n",
       "      <td>0.624434</td>\n",
       "      <td>00:00</td>\n",
       "    </tr>\n",
       "    <tr>\n",
       "      <td>11</td>\n",
       "      <td>0.438474</td>\n",
       "      <td>0.424530</td>\n",
       "      <td>0.797159</td>\n",
       "      <td>0.638767</td>\n",
       "      <td>00:00</td>\n",
       "    </tr>\n",
       "    <tr>\n",
       "      <td>12</td>\n",
       "      <td>0.423076</td>\n",
       "      <td>0.434949</td>\n",
       "      <td>0.791634</td>\n",
       "      <td>0.642857</td>\n",
       "      <td>00:00</td>\n",
       "    </tr>\n",
       "    <tr>\n",
       "      <td>13</td>\n",
       "      <td>0.416653</td>\n",
       "      <td>0.433235</td>\n",
       "      <td>0.801894</td>\n",
       "      <td>0.649351</td>\n",
       "      <td>00:00</td>\n",
       "    </tr>\n",
       "  </tbody>\n",
       "</table>"
      ],
      "text/plain": [
       "<IPython.core.display.HTML object>"
      ]
     },
     "metadata": {},
     "output_type": "display_data"
    }
   ],
   "source": [
    "learn.fit(14, lr=0.04)"
   ]
  },
  {
   "cell_type": "markdown",
   "id": "1b76e258",
   "metadata": {
    "papermill": {
     "duration": 0.029072,
     "end_time": "2025-08-09T17:23:51.841748",
     "exception": false,
     "start_time": "2025-08-09T17:23:51.812676",
     "status": "completed"
    },
    "tags": []
   },
   "source": [
    "After training the model for 14 iterations, we achieved an accuracy of approximately `0.80`. While there's room to experiment with different hyperparameters, we'll move forward with this model for now and evaluate it on the **test set**."
   ]
  },
  {
   "cell_type": "markdown",
   "id": "bdbb224e",
   "metadata": {
    "papermill": {
     "duration": 0.028121,
     "end_time": "2025-08-09T17:23:51.899475",
     "exception": false,
     "start_time": "2025-08-09T17:23:51.871354",
     "status": "completed"
    },
    "tags": []
   },
   "source": [
    "## Test Set"
   ]
  },
  {
   "cell_type": "markdown",
   "id": "823f320f",
   "metadata": {
    "papermill": {
     "duration": 0.028124,
     "end_time": "2025-08-09T17:23:51.956201",
     "exception": false,
     "start_time": "2025-08-09T17:23:51.928077",
     "status": "completed"
    },
    "tags": []
   },
   "source": [
    "Repeating the training set preprocessing on the test set, which includes converting `TotalCharges` to a numeric type"
   ]
  },
  {
   "cell_type": "code",
   "execution_count": 21,
   "id": "722b95fb",
   "metadata": {
    "execution": {
     "iopub.execute_input": "2025-08-09T17:23:52.015549Z",
     "iopub.status.busy": "2025-08-09T17:23:52.015285Z",
     "iopub.status.idle": "2025-08-09T17:23:52.019782Z",
     "shell.execute_reply": "2025-08-09T17:23:52.019259Z"
    },
    "papermill": {
     "duration": 0.036269,
     "end_time": "2025-08-09T17:23:52.020880",
     "exception": false,
     "start_time": "2025-08-09T17:23:51.984611",
     "status": "completed"
    },
    "tags": []
   },
   "outputs": [],
   "source": [
    "test_df['TotalCharges'] = pd.to_numeric(test_df['TotalCharges'], errors='coerce')"
   ]
  },
  {
   "cell_type": "markdown",
   "id": "2ff664d0",
   "metadata": {
    "papermill": {
     "duration": 0.028412,
     "end_time": "2025-08-09T17:23:52.079485",
     "exception": false,
     "start_time": "2025-08-09T17:23:52.051073",
     "status": "completed"
    },
    "tags": []
   },
   "source": [
    "Checking if `TotalCharges` contains any null value in the test set"
   ]
  },
  {
   "cell_type": "code",
   "execution_count": 22,
   "id": "dbccbf48",
   "metadata": {
    "execution": {
     "iopub.execute_input": "2025-08-09T17:23:52.137801Z",
     "iopub.status.busy": "2025-08-09T17:23:52.137604Z",
     "iopub.status.idle": "2025-08-09T17:23:52.151886Z",
     "shell.execute_reply": "2025-08-09T17:23:52.151295Z"
    },
    "papermill": {
     "duration": 0.044072,
     "end_time": "2025-08-09T17:23:52.152885",
     "exception": false,
     "start_time": "2025-08-09T17:23:52.108813",
     "status": "completed"
    },
    "tags": []
   },
   "outputs": [
    {
     "data": {
      "text/html": [
       "<div>\n",
       "<style scoped>\n",
       "    .dataframe tbody tr th:only-of-type {\n",
       "        vertical-align: middle;\n",
       "    }\n",
       "\n",
       "    .dataframe tbody tr th {\n",
       "        vertical-align: top;\n",
       "    }\n",
       "\n",
       "    .dataframe thead th {\n",
       "        text-align: right;\n",
       "    }\n",
       "</style>\n",
       "<table border=\"1\" class=\"dataframe\">\n",
       "  <thead>\n",
       "    <tr style=\"text-align: right;\">\n",
       "      <th></th>\n",
       "      <th>customerID</th>\n",
       "      <th>gender</th>\n",
       "      <th>SeniorCitizen</th>\n",
       "      <th>Partner</th>\n",
       "      <th>Dependents</th>\n",
       "      <th>tenure</th>\n",
       "      <th>PhoneService</th>\n",
       "      <th>MultipleLines</th>\n",
       "      <th>InternetService</th>\n",
       "      <th>OnlineSecurity</th>\n",
       "      <th>...</th>\n",
       "      <th>DeviceProtection</th>\n",
       "      <th>TechSupport</th>\n",
       "      <th>StreamingTV</th>\n",
       "      <th>StreamingMovies</th>\n",
       "      <th>Contract</th>\n",
       "      <th>PaperlessBilling</th>\n",
       "      <th>PaymentMethod</th>\n",
       "      <th>MonthlyCharges</th>\n",
       "      <th>TotalCharges</th>\n",
       "      <th>Churn</th>\n",
       "    </tr>\n",
       "  </thead>\n",
       "  <tbody>\n",
       "    <tr>\n",
       "      <th>6670</th>\n",
       "      <td>4075-WKNIU</td>\n",
       "      <td>Female</td>\n",
       "      <td>0</td>\n",
       "      <td>Yes</td>\n",
       "      <td>Yes</td>\n",
       "      <td>0</td>\n",
       "      <td>Yes</td>\n",
       "      <td>Yes</td>\n",
       "      <td>DSL</td>\n",
       "      <td>No</td>\n",
       "      <td>...</td>\n",
       "      <td>Yes</td>\n",
       "      <td>Yes</td>\n",
       "      <td>Yes</td>\n",
       "      <td>No</td>\n",
       "      <td>Two year</td>\n",
       "      <td>No</td>\n",
       "      <td>Mailed check</td>\n",
       "      <td>73.35</td>\n",
       "      <td>NaN</td>\n",
       "      <td>No</td>\n",
       "    </tr>\n",
       "    <tr>\n",
       "      <th>6754</th>\n",
       "      <td>2775-SEFEE</td>\n",
       "      <td>Male</td>\n",
       "      <td>0</td>\n",
       "      <td>No</td>\n",
       "      <td>Yes</td>\n",
       "      <td>0</td>\n",
       "      <td>Yes</td>\n",
       "      <td>Yes</td>\n",
       "      <td>DSL</td>\n",
       "      <td>Yes</td>\n",
       "      <td>...</td>\n",
       "      <td>No</td>\n",
       "      <td>Yes</td>\n",
       "      <td>No</td>\n",
       "      <td>No</td>\n",
       "      <td>Two year</td>\n",
       "      <td>Yes</td>\n",
       "      <td>Bank transfer (automatic)</td>\n",
       "      <td>61.90</td>\n",
       "      <td>NaN</td>\n",
       "      <td>No</td>\n",
       "    </tr>\n",
       "  </tbody>\n",
       "</table>\n",
       "<p>2 rows × 21 columns</p>\n",
       "</div>"
      ],
      "text/plain": [
       "      customerID  gender  SeniorCitizen Partner Dependents  tenure PhoneService MultipleLines InternetService OnlineSecurity  ...  \\\n",
       "6670  4075-WKNIU  Female              0     Yes        Yes       0          Yes           Yes             DSL             No  ...   \n",
       "6754  2775-SEFEE    Male              0      No        Yes       0          Yes           Yes             DSL            Yes  ...   \n",
       "\n",
       "     DeviceProtection TechSupport StreamingTV StreamingMovies  Contract PaperlessBilling              PaymentMethod MonthlyCharges  \\\n",
       "6670              Yes         Yes         Yes              No  Two year               No               Mailed check          73.35   \n",
       "6754               No         Yes          No              No  Two year              Yes  Bank transfer (automatic)          61.90   \n",
       "\n",
       "      TotalCharges  Churn  \n",
       "6670           NaN     No  \n",
       "6754           NaN     No  \n",
       "\n",
       "[2 rows x 21 columns]"
      ]
     },
     "execution_count": 22,
     "metadata": {},
     "output_type": "execute_result"
    }
   ],
   "source": [
    "test_df[test_df['TotalCharges'].isna()]"
   ]
  },
  {
   "cell_type": "markdown",
   "id": "94c6e8c6",
   "metadata": {
    "papermill": {
     "duration": 0.028468,
     "end_time": "2025-08-09T17:23:52.210234",
     "exception": false,
     "start_time": "2025-08-09T17:23:52.181766",
     "status": "completed"
    },
    "tags": []
   },
   "source": [
    "To avoid repeating preprocessing steps like `categorify` and `fill_missing`, we simply load the saved learner and create a test dataloader."
   ]
  },
  {
   "cell_type": "code",
   "execution_count": 23,
   "id": "5764a99d",
   "metadata": {
    "execution": {
     "iopub.execute_input": "2025-08-09T17:23:52.268871Z",
     "iopub.status.busy": "2025-08-09T17:23:52.268694Z",
     "iopub.status.idle": "2025-08-09T17:23:52.286885Z",
     "shell.execute_reply": "2025-08-09T17:23:52.285930Z"
    },
    "papermill": {
     "duration": 0.049348,
     "end_time": "2025-08-09T17:23:52.288102",
     "exception": false,
     "start_time": "2025-08-09T17:23:52.238754",
     "status": "completed"
    },
    "tags": []
   },
   "outputs": [
    {
     "name": "stderr",
     "output_type": "stream",
     "text": [
      "/usr/local/lib/python3.11/dist-packages/fastai/tabular/core.py:314: FutureWarning: A value is trying to be set on a copy of a DataFrame or Series through chained assignment using an inplace method.\n",
      "The behavior will change in pandas 3.0. This inplace method will never work because the intermediate object on which we are setting values always behaves as a copy.\n",
      "\n",
      "For example, when doing 'df[col].method(value, inplace=True)', try using 'df.method({col: value}, inplace=True)' or df[col] = df[col].method(value) instead, to perform the operation inplace on the original object.\n",
      "\n",
      "\n",
      "  to[n].fillna(self.na_dict[n], inplace=True)\n"
     ]
    }
   ],
   "source": [
    "tst_dl = learn.dls.test_dl(test_df)"
   ]
  },
  {
   "cell_type": "markdown",
   "id": "5db62d49",
   "metadata": {
    "papermill": {
     "duration": 0.028662,
     "end_time": "2025-08-09T17:23:52.346879",
     "exception": false,
     "start_time": "2025-08-09T17:23:52.318217",
     "status": "completed"
    },
    "tags": []
   },
   "source": [
    "## Evaluating our Model"
   ]
  },
  {
   "cell_type": "markdown",
   "id": "eebba017",
   "metadata": {
    "papermill": {
     "duration": 0.030245,
     "end_time": "2025-08-09T17:23:52.406704",
     "exception": false,
     "start_time": "2025-08-09T17:23:52.376459",
     "status": "completed"
    },
    "tags": []
   },
   "source": [
    "Getting the prediction probabilities (`preds`)for the test data loader `tst_dl` using the trained model `learn`"
   ]
  },
  {
   "cell_type": "code",
   "execution_count": 24,
   "id": "c054d571",
   "metadata": {
    "execution": {
     "iopub.execute_input": "2025-08-09T17:23:52.466768Z",
     "iopub.status.busy": "2025-08-09T17:23:52.466477Z",
     "iopub.status.idle": "2025-08-09T17:23:52.590139Z",
     "shell.execute_reply": "2025-08-09T17:23:52.589606Z"
    },
    "papermill": {
     "duration": 0.155398,
     "end_time": "2025-08-09T17:23:52.591287",
     "exception": false,
     "start_time": "2025-08-09T17:23:52.435889",
     "status": "completed"
    },
    "tags": []
   },
   "outputs": [
    {
     "data": {
      "text/html": [
       "\n",
       "<style>\n",
       "    /* Turns off some styling */\n",
       "    progress {\n",
       "        /* gets rid of default border in Firefox and Opera. */\n",
       "        border: none;\n",
       "        /* Needs to be in here for Safari polyfill so background images work as expected. */\n",
       "        background-size: auto;\n",
       "    }\n",
       "    progress:not([value]), progress:not([value])::-webkit-progress-bar {\n",
       "        background: repeating-linear-gradient(45deg, #7e7e7e, #7e7e7e 10px, #5c5c5c 10px, #5c5c5c 20px);\n",
       "    }\n",
       "    .progress-bar-interrupted, .progress-bar-interrupted::-webkit-progress-bar {\n",
       "        background: #F44336;\n",
       "    }\n",
       "</style>\n"
      ],
      "text/plain": [
       "<IPython.core.display.HTML object>"
      ]
     },
     "metadata": {},
     "output_type": "display_data"
    },
    {
     "data": {
      "text/html": [],
      "text/plain": [
       "<IPython.core.display.HTML object>"
      ]
     },
     "metadata": {},
     "output_type": "display_data"
    }
   ],
   "source": [
    "preds,_ = learn.get_preds(dl=tst_dl)"
   ]
  },
  {
   "cell_type": "code",
   "execution_count": 25,
   "id": "749d091e",
   "metadata": {
    "execution": {
     "iopub.execute_input": "2025-08-09T17:23:52.654134Z",
     "iopub.status.busy": "2025-08-09T17:23:52.653938Z",
     "iopub.status.idle": "2025-08-09T17:23:52.683986Z",
     "shell.execute_reply": "2025-08-09T17:23:52.683071Z"
    },
    "papermill": {
     "duration": 0.062157,
     "end_time": "2025-08-09T17:23:52.685148",
     "exception": false,
     "start_time": "2025-08-09T17:23:52.622991",
     "status": "completed"
    },
    "tags": []
   },
   "outputs": [
    {
     "data": {
      "text/plain": [
       "tensor([[    0.7054,     0.2946],\n",
       "        [    0.6597,     0.3403],\n",
       "        [    0.3168,     0.6832],\n",
       "        [    0.4805,     0.5195],\n",
       "        [    0.9936,     0.0064],\n",
       "        [    0.6727,     0.3273],\n",
       "        [    0.5971,     0.4029],\n",
       "        ...,\n",
       "        [    0.8349,     0.1651],\n",
       "        [    0.9997,     0.0003],\n",
       "        [    0.8854,     0.1146],\n",
       "        [    0.8158,     0.1842],\n",
       "        [    0.6510,     0.3490],\n",
       "        [    0.2775,     0.7225],\n",
       "        [    0.9824,     0.0176]])"
      ]
     },
     "execution_count": 25,
     "metadata": {},
     "output_type": "execute_result"
    }
   ],
   "source": [
    "preds"
   ]
  },
  {
   "cell_type": "markdown",
   "id": "a3a0462a",
   "metadata": {
    "papermill": {
     "duration": 0.029931,
     "end_time": "2025-08-09T17:23:52.745819",
     "exception": false,
     "start_time": "2025-08-09T17:23:52.715888",
     "status": "completed"
    },
    "tags": []
   },
   "source": [
    "For each prediction, we select the index of the class with the highest predicted probability (i.e., the predicted class)"
   ]
  },
  {
   "cell_type": "code",
   "execution_count": 26,
   "id": "497b13ab",
   "metadata": {
    "execution": {
     "iopub.execute_input": "2025-08-09T17:23:52.807800Z",
     "iopub.status.busy": "2025-08-09T17:23:52.807554Z",
     "iopub.status.idle": "2025-08-09T17:23:52.817170Z",
     "shell.execute_reply": "2025-08-09T17:23:52.816360Z"
    },
    "papermill": {
     "duration": 0.043119,
     "end_time": "2025-08-09T17:23:52.818718",
     "exception": false,
     "start_time": "2025-08-09T17:23:52.775599",
     "status": "completed"
    },
    "tags": []
   },
   "outputs": [
    {
     "data": {
      "text/plain": [
       "tensor([0, 0, 1, 1, 0, 0, 0, 0, 1, 0])"
      ]
     },
     "execution_count": 26,
     "metadata": {},
     "output_type": "execute_result"
    }
   ],
   "source": [
    "pred_index = preds.argmax(dim=1)\n",
    "pred_index[:10]"
   ]
  },
  {
   "cell_type": "markdown",
   "id": "022ca7b8",
   "metadata": {
    "papermill": {
     "duration": 0.048505,
     "end_time": "2025-08-09T17:23:52.909342",
     "exception": false,
     "start_time": "2025-08-09T17:23:52.860837",
     "status": "completed"
    },
    "tags": []
   },
   "source": [
    "Converting the predicted class indices into actual class labels using the vocabulary (`vocab`) from the data loaders."
   ]
  },
  {
   "cell_type": "code",
   "execution_count": 27,
   "id": "e7c087b2",
   "metadata": {
    "execution": {
     "iopub.execute_input": "2025-08-09T17:23:52.969976Z",
     "iopub.status.busy": "2025-08-09T17:23:52.969706Z",
     "iopub.status.idle": "2025-08-09T17:23:52.989924Z",
     "shell.execute_reply": "2025-08-09T17:23:52.989416Z"
    },
    "papermill": {
     "duration": 0.051401,
     "end_time": "2025-08-09T17:23:52.991027",
     "exception": false,
     "start_time": "2025-08-09T17:23:52.939626",
     "status": "completed"
    },
    "tags": []
   },
   "outputs": [
    {
     "data": {
      "text/plain": [
       "['No', 'No', 'Yes', 'Yes', 'No', 'No', 'No', 'No', 'Yes', 'No']"
      ]
     },
     "execution_count": 27,
     "metadata": {},
     "output_type": "execute_result"
    }
   ],
   "source": [
    "pred_label = [learn.dls.vocab[i] for i in pred_index]\n",
    "pred_label[:10]"
   ]
  },
  {
   "cell_type": "markdown",
   "id": "fb5170b7",
   "metadata": {
    "papermill": {
     "duration": 0.03106,
     "end_time": "2025-08-09T17:23:53.053346",
     "exception": false,
     "start_time": "2025-08-09T17:23:53.022286",
     "status": "completed"
    },
    "tags": []
   },
   "source": [
    "Extracting the ground truth `Churn` values from the `test_df` DataFrame, to compare with the predicted labels."
   ]
  },
  {
   "cell_type": "code",
   "execution_count": 28,
   "id": "7a0ca587",
   "metadata": {
    "execution": {
     "iopub.execute_input": "2025-08-09T17:23:53.116745Z",
     "iopub.status.busy": "2025-08-09T17:23:53.116519Z",
     "iopub.status.idle": "2025-08-09T17:23:53.122001Z",
     "shell.execute_reply": "2025-08-09T17:23:53.121324Z"
    },
    "papermill": {
     "duration": 0.039415,
     "end_time": "2025-08-09T17:23:53.123187",
     "exception": false,
     "start_time": "2025-08-09T17:23:53.083772",
     "status": "completed"
    },
    "tags": []
   },
   "outputs": [
    {
     "data": {
      "text/plain": [
       "['Yes', 'No', 'Yes', 'No', 'No', 'Yes', 'No', 'Yes', 'No', 'No']"
      ]
     },
     "execution_count": 28,
     "metadata": {},
     "output_type": "execute_result"
    }
   ],
   "source": [
    "true_label = [i for i in test_df['Churn']]\n",
    "true_label[:10]"
   ]
  },
  {
   "cell_type": "markdown",
   "id": "fbc317ac",
   "metadata": {
    "papermill": {
     "duration": 0.02846,
     "end_time": "2025-08-09T17:23:53.181172",
     "exception": false,
     "start_time": "2025-08-09T17:23:53.152712",
     "status": "completed"
    },
    "tags": []
   },
   "source": [
    "In summary, we're using a trained fastai `Learner` to make predictions on a test dataset and map the predictions back to class labels."
   ]
  },
  {
   "cell_type": "markdown",
   "id": "e68ee6d0",
   "metadata": {
    "papermill": {
     "duration": 0.028808,
     "end_time": "2025-08-09T17:23:53.239284",
     "exception": false,
     "start_time": "2025-08-09T17:23:53.210476",
     "status": "completed"
    },
    "tags": []
   },
   "source": [
    "Calculating the count of each category `Yes` and `No` from the `Churn` column within the DataFrame. This helps us to identify if the dataset is imbalanced."
   ]
  },
  {
   "cell_type": "code",
   "execution_count": 29,
   "id": "02c04a36",
   "metadata": {
    "execution": {
     "iopub.execute_input": "2025-08-09T17:23:53.298794Z",
     "iopub.status.busy": "2025-08-09T17:23:53.298097Z",
     "iopub.status.idle": "2025-08-09T17:23:53.303874Z",
     "shell.execute_reply": "2025-08-09T17:23:53.303025Z"
    },
    "papermill": {
     "duration": 0.036227,
     "end_time": "2025-08-09T17:23:53.304977",
     "exception": false,
     "start_time": "2025-08-09T17:23:53.268750",
     "status": "completed"
    },
    "tags": []
   },
   "outputs": [
    {
     "name": "stdout",
     "output_type": "stream",
     "text": [
      "Churn\n",
      "No     5174\n",
      "Yes    1869\n",
      "Name: count, dtype: int64\n"
     ]
    }
   ],
   "source": [
    "print(full_df['Churn'].value_counts())"
   ]
  },
  {
   "cell_type": "markdown",
   "id": "761974e2",
   "metadata": {
    "papermill": {
     "duration": 0.028782,
     "end_time": "2025-08-09T17:23:53.362825",
     "exception": false,
     "start_time": "2025-08-09T17:23:53.334043",
     "status": "completed"
    },
    "tags": []
   },
   "source": [
    "From the above results, we identify that the output column `Churn` contains 5174 values for category `No` and 1869 values for category `Yes`. This tells us that the dataset is imbalanced with many more non-churn labels than churn labels."
   ]
  },
  {
   "cell_type": "code",
   "execution_count": 30,
   "id": "b5a15320",
   "metadata": {
    "execution": {
     "iopub.execute_input": "2025-08-09T17:23:53.424116Z",
     "iopub.status.busy": "2025-08-09T17:23:53.423848Z",
     "iopub.status.idle": "2025-08-09T17:23:53.430775Z",
     "shell.execute_reply": "2025-08-09T17:23:53.430031Z"
    },
    "papermill": {
     "duration": 0.039559,
     "end_time": "2025-08-09T17:23:53.431949",
     "exception": false,
     "start_time": "2025-08-09T17:23:53.392390",
     "status": "completed"
    },
    "tags": []
   },
   "outputs": [
    {
     "name": "stdout",
     "output_type": "stream",
     "text": [
      "Accuracy:  0.8011363636363636\n"
     ]
    }
   ],
   "source": [
    "from sklearn.metrics import accuracy_score, precision_score\n",
    "\n",
    "print(\"Accuracy: \", accuracy_score(true_label, pred_label))"
   ]
  },
  {
   "cell_type": "markdown",
   "id": "1003fb21",
   "metadata": {
    "papermill": {
     "duration": 0.03064,
     "end_time": "2025-08-09T17:23:53.494997",
     "exception": false,
     "start_time": "2025-08-09T17:23:53.464357",
     "status": "completed"
    },
    "tags": []
   },
   "source": [
    "We prefer calculating precision in this case, because accuracy can be misleading- a model can achieve high accuracy my mostly predicting majority class `No`, ignoring the `Yes` class.\n",
    "\n",
    "`Precision` tells us- Of all the customers we predicted would churn, how many actually did?"
   ]
  },
  {
   "cell_type": "code",
   "execution_count": 31,
   "id": "f86e5bb8",
   "metadata": {
    "execution": {
     "iopub.execute_input": "2025-08-09T17:23:53.556838Z",
     "iopub.status.busy": "2025-08-09T17:23:53.556544Z",
     "iopub.status.idle": "2025-08-09T17:23:53.565480Z",
     "shell.execute_reply": "2025-08-09T17:23:53.564748Z"
    },
    "papermill": {
     "duration": 0.041422,
     "end_time": "2025-08-09T17:23:53.566701",
     "exception": false,
     "start_time": "2025-08-09T17:23:53.525279",
     "status": "completed"
    },
    "tags": []
   },
   "outputs": [
    {
     "name": "stdout",
     "output_type": "stream",
     "text": [
      "Precision:  0.7131782945736435\n"
     ]
    }
   ],
   "source": [
    "print(\"Precision: \", precision_score(true_label, pred_label, pos_label='Yes'))"
   ]
  },
  {
   "cell_type": "markdown",
   "id": "4d3cffc6",
   "metadata": {
    "papermill": {
     "duration": 0.029531,
     "end_time": "2025-08-09T17:23:53.625995",
     "exception": false,
     "start_time": "2025-08-09T17:23:53.596464",
     "status": "completed"
    },
    "tags": []
   },
   "source": [
    "Above precision value tells us- out of all customers the model predicted would churn, approx. 71% did churn."
   ]
  },
  {
   "cell_type": "markdown",
   "id": "93a9384f",
   "metadata": {
    "papermill": {
     "duration": 0.029569,
     "end_time": "2025-08-09T17:23:53.684746",
     "exception": false,
     "start_time": "2025-08-09T17:23:53.655177",
     "status": "completed"
    },
    "tags": []
   },
   "source": [
    "We'll compare this model performance with the `ensembling` approach discussed below."
   ]
  },
  {
   "cell_type": "markdown",
   "id": "b9a890bb",
   "metadata": {
    "papermill": {
     "duration": 0.028699,
     "end_time": "2025-08-09T17:23:53.742571",
     "exception": false,
     "start_time": "2025-08-09T17:23:53.713872",
     "status": "completed"
    },
    "tags": []
   },
   "source": [
    "## Ensembling"
   ]
  },
  {
   "cell_type": "markdown",
   "id": "40a49592",
   "metadata": {
    "papermill": {
     "duration": 0.029033,
     "end_time": "2025-08-09T17:23:53.800787",
     "exception": false,
     "start_time": "2025-08-09T17:23:53.771754",
     "status": "completed"
    },
    "tags": []
   },
   "source": [
    "This ensemble approach involves training multiple models (in this case `four`), each with a different random seed to introduce variability. Each model is trainied independently on the same data, and their predictions on the `test set` are then averaged to form the final ensemble output. This averaged prediction is used to evaluate the ensemble's overall performance and compared against individual model results."
   ]
  },
  {
   "cell_type": "code",
   "execution_count": 32,
   "id": "a425b7d8",
   "metadata": {
    "execution": {
     "iopub.execute_input": "2025-08-09T17:23:53.860109Z",
     "iopub.status.busy": "2025-08-09T17:23:53.859869Z",
     "iopub.status.idle": "2025-08-09T17:23:53.864130Z",
     "shell.execute_reply": "2025-08-09T17:23:53.863572Z"
    },
    "papermill": {
     "duration": 0.035368,
     "end_time": "2025-08-09T17:23:53.865217",
     "exception": false,
     "start_time": "2025-08-09T17:23:53.829849",
     "status": "completed"
    },
    "tags": []
   },
   "outputs": [],
   "source": [
    "def ensemble_func():\n",
    "    learn = tabular_learner(dls, metrics=[accuracy, Precision()], layers=[14, 14])\n",
    "    with learn.no_bar(), learn.no_logging(): \n",
    "        learn.fit(14, lr=0.04)\n",
    "    e_pred = learn.get_preds(dl=tst_dl)\n",
    "    return e_pred[0]"
   ]
  },
  {
   "cell_type": "code",
   "execution_count": 33,
   "id": "7742070d",
   "metadata": {
    "execution": {
     "iopub.execute_input": "2025-08-09T17:23:53.924777Z",
     "iopub.status.busy": "2025-08-09T17:23:53.924591Z",
     "iopub.status.idle": "2025-08-09T17:24:42.359895Z",
     "shell.execute_reply": "2025-08-09T17:24:42.359098Z"
    },
    "papermill": {
     "duration": 48.466429,
     "end_time": "2025-08-09T17:24:42.361155",
     "exception": false,
     "start_time": "2025-08-09T17:23:53.894726",
     "status": "completed"
    },
    "tags": []
   },
   "outputs": [
    {
     "data": {
      "text/html": [
       "\n",
       "<style>\n",
       "    /* Turns off some styling */\n",
       "    progress {\n",
       "        /* gets rid of default border in Firefox and Opera. */\n",
       "        border: none;\n",
       "        /* Needs to be in here for Safari polyfill so background images work as expected. */\n",
       "        background-size: auto;\n",
       "    }\n",
       "    progress:not([value]), progress:not([value])::-webkit-progress-bar {\n",
       "        background: repeating-linear-gradient(45deg, #7e7e7e, #7e7e7e 10px, #5c5c5c 10px, #5c5c5c 20px);\n",
       "    }\n",
       "    .progress-bar-interrupted, .progress-bar-interrupted::-webkit-progress-bar {\n",
       "        background: #F44336;\n",
       "    }\n",
       "</style>\n"
      ],
      "text/plain": [
       "<IPython.core.display.HTML object>"
      ]
     },
     "metadata": {},
     "output_type": "display_data"
    },
    {
     "data": {
      "text/html": [],
      "text/plain": [
       "<IPython.core.display.HTML object>"
      ]
     },
     "metadata": {},
     "output_type": "display_data"
    },
    {
     "data": {
      "text/html": [
       "\n",
       "<style>\n",
       "    /* Turns off some styling */\n",
       "    progress {\n",
       "        /* gets rid of default border in Firefox and Opera. */\n",
       "        border: none;\n",
       "        /* Needs to be in here for Safari polyfill so background images work as expected. */\n",
       "        background-size: auto;\n",
       "    }\n",
       "    progress:not([value]), progress:not([value])::-webkit-progress-bar {\n",
       "        background: repeating-linear-gradient(45deg, #7e7e7e, #7e7e7e 10px, #5c5c5c 10px, #5c5c5c 20px);\n",
       "    }\n",
       "    .progress-bar-interrupted, .progress-bar-interrupted::-webkit-progress-bar {\n",
       "        background: #F44336;\n",
       "    }\n",
       "</style>\n"
      ],
      "text/plain": [
       "<IPython.core.display.HTML object>"
      ]
     },
     "metadata": {},
     "output_type": "display_data"
    },
    {
     "data": {
      "text/html": [],
      "text/plain": [
       "<IPython.core.display.HTML object>"
      ]
     },
     "metadata": {},
     "output_type": "display_data"
    },
    {
     "data": {
      "text/html": [
       "\n",
       "<style>\n",
       "    /* Turns off some styling */\n",
       "    progress {\n",
       "        /* gets rid of default border in Firefox and Opera. */\n",
       "        border: none;\n",
       "        /* Needs to be in here for Safari polyfill so background images work as expected. */\n",
       "        background-size: auto;\n",
       "    }\n",
       "    progress:not([value]), progress:not([value])::-webkit-progress-bar {\n",
       "        background: repeating-linear-gradient(45deg, #7e7e7e, #7e7e7e 10px, #5c5c5c 10px, #5c5c5c 20px);\n",
       "    }\n",
       "    .progress-bar-interrupted, .progress-bar-interrupted::-webkit-progress-bar {\n",
       "        background: #F44336;\n",
       "    }\n",
       "</style>\n"
      ],
      "text/plain": [
       "<IPython.core.display.HTML object>"
      ]
     },
     "metadata": {},
     "output_type": "display_data"
    },
    {
     "data": {
      "text/html": [],
      "text/plain": [
       "<IPython.core.display.HTML object>"
      ]
     },
     "metadata": {},
     "output_type": "display_data"
    },
    {
     "data": {
      "text/html": [
       "\n",
       "<style>\n",
       "    /* Turns off some styling */\n",
       "    progress {\n",
       "        /* gets rid of default border in Firefox and Opera. */\n",
       "        border: none;\n",
       "        /* Needs to be in here for Safari polyfill so background images work as expected. */\n",
       "        background-size: auto;\n",
       "    }\n",
       "    progress:not([value]), progress:not([value])::-webkit-progress-bar {\n",
       "        background: repeating-linear-gradient(45deg, #7e7e7e, #7e7e7e 10px, #5c5c5c 10px, #5c5c5c 20px);\n",
       "    }\n",
       "    .progress-bar-interrupted, .progress-bar-interrupted::-webkit-progress-bar {\n",
       "        background: #F44336;\n",
       "    }\n",
       "</style>\n"
      ],
      "text/plain": [
       "<IPython.core.display.HTML object>"
      ]
     },
     "metadata": {},
     "output_type": "display_data"
    },
    {
     "data": {
      "text/html": [],
      "text/plain": [
       "<IPython.core.display.HTML object>"
      ]
     },
     "metadata": {},
     "output_type": "display_data"
    }
   ],
   "source": [
    "learns = [ensemble_func() for i in range(4)]"
   ]
  },
  {
   "cell_type": "markdown",
   "id": "3c1e5b16",
   "metadata": {
    "papermill": {
     "duration": 0.029692,
     "end_time": "2025-08-09T17:24:42.423528",
     "exception": false,
     "start_time": "2025-08-09T17:24:42.393836",
     "status": "completed"
    },
    "tags": []
   },
   "source": [
    "Averaging the predictions from all models in the ensemble along the first dimension."
   ]
  },
  {
   "cell_type": "code",
   "execution_count": 34,
   "id": "b1de99a7",
   "metadata": {
    "execution": {
     "iopub.execute_input": "2025-08-09T17:24:42.484585Z",
     "iopub.status.busy": "2025-08-09T17:24:42.484341Z",
     "iopub.status.idle": "2025-08-09T17:24:42.490275Z",
     "shell.execute_reply": "2025-08-09T17:24:42.489600Z"
    },
    "papermill": {
     "duration": 0.038225,
     "end_time": "2025-08-09T17:24:42.491464",
     "exception": false,
     "start_time": "2025-08-09T17:24:42.453239",
     "status": "completed"
    },
    "tags": []
   },
   "outputs": [
    {
     "data": {
      "text/plain": [
       "tensor([[0.6892, 0.3108],\n",
       "        [0.6460, 0.3540],\n",
       "        [0.3830, 0.6170],\n",
       "        [0.4994, 0.5006],\n",
       "        [0.9640, 0.0360],\n",
       "        [0.5917, 0.4083],\n",
       "        [0.5903, 0.4097],\n",
       "        [0.6814, 0.3186],\n",
       "        [0.5542, 0.4458],\n",
       "        [0.6628, 0.3372]])"
      ]
     },
     "execution_count": 34,
     "metadata": {},
     "output_type": "execute_result"
    }
   ],
   "source": [
    "en_pred = torch.stack(learns).mean(0)\n",
    "en_pred[:10]"
   ]
  },
  {
   "cell_type": "markdown",
   "id": "e023895d",
   "metadata": {
    "papermill": {
     "duration": 0.02964,
     "end_time": "2025-08-09T17:24:42.551135",
     "exception": false,
     "start_time": "2025-08-09T17:24:42.521495",
     "status": "completed"
    },
    "tags": []
   },
   "source": [
    "Selecting the predicted class index with highest average probability for each example."
   ]
  },
  {
   "cell_type": "code",
   "execution_count": 35,
   "id": "47ac326e",
   "metadata": {
    "execution": {
     "iopub.execute_input": "2025-08-09T17:24:42.612029Z",
     "iopub.status.busy": "2025-08-09T17:24:42.611846Z",
     "iopub.status.idle": "2025-08-09T17:24:42.616828Z",
     "shell.execute_reply": "2025-08-09T17:24:42.616286Z"
    },
    "papermill": {
     "duration": 0.03617,
     "end_time": "2025-08-09T17:24:42.617907",
     "exception": false,
     "start_time": "2025-08-09T17:24:42.581737",
     "status": "completed"
    },
    "tags": []
   },
   "outputs": [
    {
     "data": {
      "text/plain": [
       "tensor([0, 0, 1, 1, 0, 0, 0, 0, 0, 0])"
      ]
     },
     "execution_count": 35,
     "metadata": {},
     "output_type": "execute_result"
    }
   ],
   "source": [
    "en_index = en_pred.argmax(dim=1)\n",
    "en_index[:10]"
   ]
  },
  {
   "cell_type": "markdown",
   "id": "2f76f726",
   "metadata": {
    "papermill": {
     "duration": 0.035811,
     "end_time": "2025-08-09T17:24:42.683520",
     "exception": false,
     "start_time": "2025-08-09T17:24:42.647709",
     "status": "completed"
    },
    "tags": []
   },
   "source": [
    "Converting predicted class indices into labels using the model's vocabulary."
   ]
  },
  {
   "cell_type": "code",
   "execution_count": 36,
   "id": "c53c90b0",
   "metadata": {
    "execution": {
     "iopub.execute_input": "2025-08-09T17:24:42.745134Z",
     "iopub.status.busy": "2025-08-09T17:24:42.744575Z",
     "iopub.status.idle": "2025-08-09T17:24:42.764555Z",
     "shell.execute_reply": "2025-08-09T17:24:42.763989Z"
    },
    "papermill": {
     "duration": 0.051499,
     "end_time": "2025-08-09T17:24:42.765650",
     "exception": false,
     "start_time": "2025-08-09T17:24:42.714151",
     "status": "completed"
    },
    "tags": []
   },
   "outputs": [
    {
     "data": {
      "text/plain": [
       "['No', 'No', 'Yes', 'Yes', 'No', 'No', 'No', 'No', 'No', 'No']"
      ]
     },
     "execution_count": 36,
     "metadata": {},
     "output_type": "execute_result"
    }
   ],
   "source": [
    "en_label = [learn.dls.vocab[i] for i in en_index]\n",
    "en_label[:10]"
   ]
  },
  {
   "cell_type": "markdown",
   "id": "997c6381",
   "metadata": {
    "papermill": {
     "duration": 0.041793,
     "end_time": "2025-08-09T17:24:42.839116",
     "exception": false,
     "start_time": "2025-08-09T17:24:42.797323",
     "status": "completed"
    },
    "tags": []
   },
   "source": [
    "Extracting true labels from the test set from the `Churn` column, these will be compared against predicted labels."
   ]
  },
  {
   "cell_type": "code",
   "execution_count": 37,
   "id": "4c9242c7",
   "metadata": {
    "execution": {
     "iopub.execute_input": "2025-08-09T17:24:42.920716Z",
     "iopub.status.busy": "2025-08-09T17:24:42.919986Z",
     "iopub.status.idle": "2025-08-09T17:24:42.925046Z",
     "shell.execute_reply": "2025-08-09T17:24:42.924507Z"
    },
    "papermill": {
     "duration": 0.038623,
     "end_time": "2025-08-09T17:24:42.926050",
     "exception": false,
     "start_time": "2025-08-09T17:24:42.887427",
     "status": "completed"
    },
    "tags": []
   },
   "outputs": [
    {
     "data": {
      "text/plain": [
       "['Yes', 'No', 'Yes', 'No', 'No', 'Yes', 'No', 'Yes', 'No', 'No']"
      ]
     },
     "execution_count": 37,
     "metadata": {},
     "output_type": "execute_result"
    }
   ],
   "source": [
    "en_true = [i for i in test_df['Churn']]\n",
    "en_true[:10]"
   ]
  },
  {
   "cell_type": "code",
   "execution_count": 38,
   "id": "e9ccea3a",
   "metadata": {
    "execution": {
     "iopub.execute_input": "2025-08-09T17:24:42.986720Z",
     "iopub.status.busy": "2025-08-09T17:24:42.986535Z",
     "iopub.status.idle": "2025-08-09T17:24:42.992475Z",
     "shell.execute_reply": "2025-08-09T17:24:42.991767Z"
    },
    "papermill": {
     "duration": 0.037452,
     "end_time": "2025-08-09T17:24:42.993466",
     "exception": false,
     "start_time": "2025-08-09T17:24:42.956014",
     "status": "completed"
    },
    "tags": []
   },
   "outputs": [
    {
     "name": "stdout",
     "output_type": "stream",
     "text": [
      "Accuracy:  0.8082386363636364\n"
     ]
    }
   ],
   "source": [
    "print(\"Accuracy: \", accuracy_score(en_true, en_label))"
   ]
  },
  {
   "cell_type": "code",
   "execution_count": 39,
   "id": "f7abc34a",
   "metadata": {
    "execution": {
     "iopub.execute_input": "2025-08-09T17:24:43.055562Z",
     "iopub.status.busy": "2025-08-09T17:24:43.055355Z",
     "iopub.status.idle": "2025-08-09T17:24:43.063350Z",
     "shell.execute_reply": "2025-08-09T17:24:43.062563Z"
    },
    "papermill": {
     "duration": 0.039822,
     "end_time": "2025-08-09T17:24:43.064568",
     "exception": false,
     "start_time": "2025-08-09T17:24:43.024746",
     "status": "completed"
    },
    "tags": []
   },
   "outputs": [
    {
     "name": "stdout",
     "output_type": "stream",
     "text": [
      "Precision:  0.7380952380952381\n"
     ]
    }
   ],
   "source": [
    "print(\"Precision: \", precision_score(en_true, en_label, pos_label='Yes'))"
   ]
  },
  {
   "cell_type": "markdown",
   "id": "2369d4e6",
   "metadata": {
    "papermill": {
     "duration": 0.029664,
     "end_time": "2025-08-09T17:24:43.125926",
     "exception": false,
     "start_time": "2025-08-09T17:24:43.096262",
     "status": "completed"
    },
    "tags": []
   },
   "source": [
    "The evaluation metrics show that ensembling approach achieves performance comparable to the deep learning model, with a slightly better precision score, suggesting it can be an effective alternative."
   ]
  }
 ],
 "metadata": {
  "kaggle": {
   "accelerator": "nvidiaTeslaT4",
   "dataSources": [
    {
     "datasetId": 13996,
     "sourceId": 18858,
     "sourceType": "datasetVersion"
    }
   ],
   "dockerImageVersionId": 31040,
   "isGpuEnabled": true,
   "isInternetEnabled": true,
   "language": "python",
   "sourceType": "notebook"
  },
  "kernelspec": {
   "display_name": "Python 3",
   "language": "python",
   "name": "python3"
  },
  "language_info": {
   "codemirror_mode": {
    "name": "ipython",
    "version": 3
   },
   "file_extension": ".py",
   "mimetype": "text/x-python",
   "name": "python",
   "nbconvert_exporter": "python",
   "pygments_lexer": "ipython3",
   "version": "3.11.11"
  },
  "papermill": {
   "default_parameters": {},
   "duration": 181.106013,
   "end_time": "2025-08-09T17:24:44.675700",
   "environment_variables": {},
   "exception": null,
   "input_path": "__notebook__.ipynb",
   "output_path": "__notebook__.ipynb",
   "parameters": {},
   "start_time": "2025-08-09T17:21:43.569687",
   "version": "2.6.0"
  }
 },
 "nbformat": 4,
 "nbformat_minor": 5
}
